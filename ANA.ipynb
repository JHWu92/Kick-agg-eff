{
 "cells": [
  {
   "cell_type": "code",
   "execution_count": 1,
   "metadata": {
    "collapsed": true
   },
   "outputs": [],
   "source": [
    "import glob\n",
    "import json\n",
    "import pandas as pd\n",
    "import scipy.stats as stats\n",
    "from src.helper import *\n",
    "%matplotlib inline"
   ]
  },
  {
   "cell_type": "code",
   "execution_count": 2,
   "metadata": {
    "collapsed": false
   },
   "outputs": [
    {
     "data": {
      "text/html": [
       "<script>requirejs.config({paths: { 'plotly': ['https://cdn.plot.ly/plotly-latest.min']},});if(!window.Plotly) {{require(['plotly'],function(plotly) {window.Plotly=plotly;});}}</script>"
      ],
      "text/plain": [
       "<IPython.core.display.HTML object>"
      ]
     },
     "metadata": {},
     "output_type": "display_data"
    }
   ],
   "source": [
    "from plotly.offline import iplot, init_notebook_mode\n",
    "from plotly.plotly import iplot as iplot_ol\n",
    "import plotly.graph_objs as go\n",
    "init_notebook_mode(True)"
   ]
  },
  {
   "cell_type": "code",
   "execution_count": 3,
   "metadata": {
    "collapsed": true
   },
   "outputs": [],
   "source": [
    "# load data\n",
    "prjs_url = pd.read_csv('data/projects_url.csv')\n",
    "prjs_loc = pd.read_csv('data/projects_location.csv')\n",
    "prjs_info = pd.read_csv('data/projects_features.csv')\n",
    "prjs_woeid = pd.read_csv('data/projects_woeid.csv')\n",
    "prjs_backer_cities = pd.concat([pd.read_csv(fn)for fn in glob.glob('data/scraped/patch-woeid/projs*cities*.csv')])\n",
    "prjs_backer_countries = pd.concat([pd.read_csv(fn)for fn in glob.glob('data/scraped/patch-woeid/projs*countries*.csv')])"
   ]
  },
  {
   "cell_type": "code",
   "execution_count": 4,
   "metadata": {
    "collapsed": false
   },
   "outputs": [
    {
     "name": "stdout",
     "output_type": "stream",
     "text": [
      "{'successful': 60672, 'failed': 61919}\n"
     ]
    }
   ],
   "source": [
    "# clean data\n",
    "\n",
    "## successful as positive = 1\n",
    "print prjs_info.state.value_counts().to_dict()\n",
    "prjs_info['state_as_int'] = prjs_info.state.apply(lambda x: 1 if x=='successful' else 0)\n",
    "\n",
    "## get int of cnt\n",
    "prjs_backer_cities.cnt = prjs_backer_cities.cnt.apply(get_int)\n",
    "prjs_backer_countries.cnt = prjs_backer_countries.cnt.apply(get_int)"
   ]
  },
  {
   "cell_type": "markdown",
   "metadata": {},
   "source": [
    "# questions in [here](https://docs.google.com/document/d/1jtUO96uMZyXAYjd7m88q7vTKaWF7kyNPyN1eyaK0W2M/edit)"
   ]
  },
  {
   "cell_type": "markdown",
   "metadata": {},
   "source": [
    "## Question 1"
   ]
  },
  {
   "cell_type": "markdown",
   "metadata": {},
   "source": [
    "### data"
   ]
  },
  {
   "cell_type": "code",
   "execution_count": null,
   "metadata": {
    "collapsed": false
   },
   "outputs": [],
   "source": [
    "prjs_wise_src2des = prjs_woeid.merge(prjs_backer_cities)\n",
    "same_src_des = prjs_wise_src2des[prjs_wise_src2des.proj_woeid==prjs_wise_src2des.woeid]\n",
    "# make sure one line is one project\n",
    "assert same_src_des.id.nunique() == same_src_des.shape[0]\n",
    "# add proj information\n",
    "same_src_des = prjs_info[['id', 'category_parent', '#backer', 'state']].merge(same_src_des, how='left')\n",
    "# those projects with nan means their cities are not shown in top 10 backers cities\n",
    "same_src_des.fillna(0, inplace=True)\n",
    "same_src_des['same_city_pcnt'] = same_src_des.apply(lambda x: x.cnt*1.0/x['#backer'] if x['#backer']!=0 else 0, axis=1)"
   ]
  },
  {
   "cell_type": "code",
   "execution_count": null,
   "metadata": {
    "collapsed": false
   },
   "outputs": [],
   "source": [
    "same_src_des_backers_cnt = same_src_des[['state', 'cnt']].groupby('state').cnt.apply(list).to_dict()\n",
    "same_src_des_backers_pcnt = same_src_des[['state', 'same_city_pcnt']].groupby('state').same_city_pcnt.apply(list).to_dict()\n",
    "save_dict_of_list(same_src_des_backers_cnt, 'data/ana/same_src_des_backer_cnt.txt')\n",
    "save_dict_of_list(same_src_des_backers_pcnt, 'data/ana/same_src_des_backer_pcnt.txt')"
   ]
  },
  {
   "cell_type": "markdown",
   "metadata": {},
   "source": [
    "### statistical tests "
   ]
  },
  {
   "cell_type": "code",
   "execution_count": null,
   "metadata": {
    "collapsed": false
   },
   "outputs": [],
   "source": [
    "\n",
    "print 'number of backers'\n",
    "print stats.f_oneway(same_src_des_backers_cnt['failed'], same_src_des_backers_cnt['successful'])\n",
    "print stats.kruskal(same_src_des_backers_cnt['failed'], same_src_des_backers_cnt['successful'])\n",
    "\n",
    "print \n",
    "\n",
    "print 'percentage of bakcers'\n",
    "print stats.f_oneway(same_src_des_backers_pcnt['failed'], same_src_des_backers_pcnt['successful'])\n",
    "print stats.kruskal(same_src_des_backers_pcnt['failed'], same_src_des_backers_pcnt['successful'])"
   ]
  },
  {
   "cell_type": "markdown",
   "metadata": {},
   "source": [
    "### plot"
   ]
  },
  {
   "cell_type": "code",
   "execution_count": null,
   "metadata": {
    "collapsed": false
   },
   "outputs": [],
   "source": [
    "l = same_src_des_backers_cnt\n",
    "title = 'number of backers from the same city of the project'\n",
    "data = [go.Box(y=l['failed'], name='failed'), go.Box(y=l['successful'], name='successful'),]\n",
    "layout = go.Layout(title=title)\n",
    "fig = go.Figure(data=data, layout=layout)\n",
    "iplot(fig)"
   ]
  },
  {
   "cell_type": "code",
   "execution_count": null,
   "metadata": {
    "collapsed": false
   },
   "outputs": [],
   "source": [
    "l = same_src_des_backers_pcnt\n",
    "title = 'percentage of backers from the same city of the project'\n",
    "data = [go.Box(y=l['failed'], name='failed'), go.Box(y=l['successful'], name='successful'),]\n",
    "layout = go.Layout(title=title)\n",
    "fig = go.Figure(data=data, layout=layout)\n",
    "iplot(fig)"
   ]
  },
  {
   "cell_type": "markdown",
   "metadata": {},
   "source": [
    "## Question 2: Entropy"
   ]
  },
  {
   "cell_type": "markdown",
   "metadata": {},
   "source": [
    "### data"
   ]
  },
  {
   "cell_type": "code",
   "execution_count": 5,
   "metadata": {
    "collapsed": false
   },
   "outputs": [],
   "source": [
    "def get_ent(edges, des_or_cate='des'):\n",
    "    data = edges.groupby([des_or_cate,'src']).agg({'src_backers': 'sum'}).reset_index()\n",
    "    data = data.pivot(index=des_or_cate, columns='src', values='src_backers')\n",
    "    print data.shape\n",
    "    data.fillna(0,inplace=True)\n",
    "    ent = data.apply(stats.entropy, axis=1)\n",
    "    return ent"
   ]
  },
  {
   "cell_type": "markdown",
   "metadata": {},
   "source": [
    "### entropy by des"
   ]
  },
  {
   "cell_type": "code",
   "execution_count": 6,
   "metadata": {
    "collapsed": false
   },
   "outputs": [
    {
     "name": "stdout",
     "output_type": "stream",
     "text": [
      "(361, 16445)\n"
     ]
    },
    {
     "data": {
      "text/plain": [
       "<matplotlib.axes._subplots.AxesSubplot at 0xd2cd048>"
      ]
     },
     "execution_count": 6,
     "metadata": {},
     "output_type": "execute_result"
    },
    {
     "data": {
      "image/png": "[encoded data removed]",
      "text/plain": [
       "<matplotlib.figure.Figure at 0xd409400>"
      ]
     },
     "metadata": {},
     "output_type": "display_data"
    }
   ],
   "source": [
    "edges = pd.read_csv('data/pledge_network_edges_thres_10.csv', index_col=0)\n",
    "ent = get_ent(edges)\n",
    "ent.hist()"
   ]
  },
  {
   "cell_type": "code",
   "execution_count": 7,
   "metadata": {
    "collapsed": false
   },
   "outputs": [
    {
     "name": "stdout",
     "output_type": "stream",
     "text": [
      "(7647, 21270)\n"
     ]
    },
    {
     "data": {
      "text/plain": [
       "<matplotlib.axes._subplots.AxesSubplot at 0x1b57c208>"
      ]
     },
     "execution_count": 7,
     "metadata": {},
     "output_type": "execute_result"
    },
    {
     "data": {
      "image/png": "[encoded data removed]",
      "text/plain": [
       "<matplotlib.figure.Figure at 0x1b57c8d0>"
      ]
     },
     "metadata": {},
     "output_type": "display_data"
    }
   ],
   "source": [
    "edges = pd.read_csv('data/pledge_network_edges.csv', index_col=0)\n",
    "ent = get_ent(edges)\n",
    "ent.hist()"
   ]
  },
  {
   "cell_type": "markdown",
   "metadata": {},
   "source": [
    "### entropy by category"
   ]
  },
  {
   "cell_type": "code",
   "execution_count": 16,
   "metadata": {
    "collapsed": false
   },
   "outputs": [
    {
     "name": "stdout",
     "output_type": "stream",
     "text": [
      "(14, 16445)\n"
     ]
    },
    {
     "data": {
      "text/plain": [
       "category\n",
       "design          3.528200\n",
       "games           3.644239\n",
       "comics          3.706140\n",
       "technology      3.806180\n",
       "dance           3.832950\n",
       "theater         4.043077\n",
       "photography     4.395215\n",
       "fashion         4.615022\n",
       "film & video    4.704090\n",
       "crafts          4.897414\n",
       "publishing      4.962422\n",
       "art             5.020326\n",
       "food            5.066709\n",
       "music           5.757100\n",
       "dtype: float64"
      ]
     },
     "execution_count": 16,
     "metadata": {},
     "output_type": "execute_result"
    },
    {
     "data": {
      "image/png": "[encoded data removed]",
      "text/plain": [
       "<matplotlib.figure.Figure at 0x16bc1a20>"
      ]
     },
     "metadata": {},
     "output_type": "display_data"
    }
   ],
   "source": [
    "edges = pd.read_csv('data/pledge_network_edges_thres_10.csv', index_col=0)\n",
    "ent = get_ent(edges,'category')\n",
    "ent.hist()\n",
    "ent.sort_values()"
   ]
  },
  {
   "cell_type": "code",
   "execution_count": 15,
   "metadata": {
    "collapsed": false
   },
   "outputs": [
    {
     "name": "stdout",
     "output_type": "stream",
     "text": [
      "(15, 21270)\n"
     ]
    },
    {
     "data": {
      "text/plain": [
       "category\n",
       "journalism      3.344604\n",
       "design          3.825913\n",
       "games           3.881975\n",
       "technology      4.087933\n",
       "comics          4.299503\n",
       "dance           4.911569\n",
       "film & video    5.050539\n",
       "fashion         5.071588\n",
       "photography     5.125155\n",
       "theater         5.171596\n",
       "publishing      5.371441\n",
       "art             5.476277\n",
       "crafts          5.725965\n",
       "food            5.858305\n",
       "music           6.047867\n",
       "dtype: float64"
      ]
     },
     "execution_count": 15,
     "metadata": {},
     "output_type": "execute_result"
    },
    {
     "data": {
      "image/png": "[encoded data removed]",
      "text/plain": [
       "<matplotlib.figure.Figure at 0x16b51e48>"
      ]
     },
     "metadata": {},
     "output_type": "display_data"
    }
   ],
   "source": [
    "edges = pd.read_csv('data/pledge_network_edges.csv', index_col=0)\n",
    "ent = get_ent(edges, 'category')\n",
    "ent.hist()\n",
    "ent.sort_values()"
   ]
  },
  {
   "cell_type": "code",
   "execution_count": null,
   "metadata": {
    "collapsed": true
   },
   "outputs": [],
   "source": []
  }
 ],
 "metadata": {
  "anaconda-cloud": {},
  "kernelspec": {
   "display_name": "Python [default]",
   "language": "python",
   "name": "python2"
  },
  "language_info": {
   "codemirror_mode": {
    "name": "ipython",
    "version": 2
   },
   "file_extension": ".py",
   "mimetype": "text/x-python",
   "name": "python",
   "nbconvert_exporter": "python",
   "pygments_lexer": "ipython2",
   "version": "2.7.13"
  }
 },
 "nbformat": 4,
 "nbformat_minor": 2
}
