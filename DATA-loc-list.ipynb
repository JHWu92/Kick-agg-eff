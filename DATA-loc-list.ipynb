{
 "cells": [
  {
   "cell_type": "code",
   "execution_count": 2,
   "metadata": {
    "collapsed": false
   },
   "outputs": [],
   "source": [
    "import pandas as pd"
   ]
  },
  {
   "cell_type": "code",
   "execution_count": 3,
   "metadata": {
    "collapsed": true
   },
   "outputs": [],
   "source": [
    "ftr_loc = pd.read_csv('data/projects_location.csv')"
   ]
  },
  {
   "cell_type": "code",
   "execution_count": 5,
   "metadata": {
    "collapsed": true
   },
   "outputs": [],
   "source": [
    "df_incm = pd.read_csv('data/Disposible income.csv')"
   ]
  },
  {
   "cell_type": "code",
   "execution_count": 6,
   "metadata": {
    "collapsed": false
   },
   "outputs": [
    {
     "data": {
      "text/html": [
       "<div>\n",
       "<style>\n",
       "    .dataframe thead tr:only-child th {\n",
       "        text-align: right;\n",
       "    }\n",
       "\n",
       "    .dataframe thead th {\n",
       "        text-align: left;\n",
       "    }\n",
       "\n",
       "    .dataframe tbody tr th {\n",
       "        vertical-align: top;\n",
       "    }\n",
       "</style>\n",
       "<table border=\"1\" class=\"dataframe\">\n",
       "  <thead>\n",
       "    <tr style=\"text-align: right;\">\n",
       "      <th></th>\n",
       "      <th>City</th>\n",
       "      <th>Income</th>\n",
       "    </tr>\n",
       "  </thead>\n",
       "  <tbody>\n",
       "    <tr>\n",
       "      <th>0</th>\n",
       "      <td>Zurich, Switzerland</td>\n",
       "      <td>5689.08</td>\n",
       "    </tr>\n",
       "    <tr>\n",
       "      <th>1</th>\n",
       "      <td>Zug, Switzerland</td>\n",
       "      <td>4759.23</td>\n",
       "    </tr>\n",
       "    <tr>\n",
       "      <th>2</th>\n",
       "      <td>Zaragoza, Spain</td>\n",
       "      <td>1190.34</td>\n",
       "    </tr>\n",
       "    <tr>\n",
       "      <th>3</th>\n",
       "      <td>Zagreb, Croatia</td>\n",
       "      <td>852.45</td>\n",
       "    </tr>\n",
       "    <tr>\n",
       "      <th>4</th>\n",
       "      <td>Yerevan, Armenia</td>\n",
       "      <td>313.01</td>\n",
       "    </tr>\n",
       "  </tbody>\n",
       "</table>\n",
       "</div>"
      ],
      "text/plain": [
       "                  City   Income\n",
       "0  Zurich, Switzerland  5689.08\n",
       "1     Zug, Switzerland  4759.23\n",
       "2      Zaragoza, Spain  1190.34\n",
       "3      Zagreb, Croatia   852.45\n",
       "4     Yerevan, Armenia   313.01"
      ]
     },
     "execution_count": 6,
     "metadata": {},
     "output_type": "execute_result"
    }
   ],
   "source": [
    "df_incm.head()"
   ]
  },
  {
   "cell_type": "code",
   "execution_count": 21,
   "metadata": {
    "collapsed": true
   },
   "outputs": [
    {
     "data": {
      "text/html": [
       "<div>\n",
       "<style>\n",
       "    .dataframe thead tr:only-child th {\n",
       "        text-align: right;\n",
       "    }\n",
       "\n",
       "    .dataframe thead th {\n",
       "        text-align: left;\n",
       "    }\n",
       "\n",
       "    .dataframe tbody tr th {\n",
       "        vertical-align: top;\n",
       "    }\n",
       "</style>\n",
       "<table border=\"1\" class=\"dataframe\">\n",
       "  <thead>\n",
       "    <tr style=\"text-align: right;\">\n",
       "      <th></th>\n",
       "      <th>id</th>\n",
       "      <th>proj_country</th>\n",
       "      <th>proj_state</th>\n",
       "      <th>proj_location_type</th>\n",
       "      <th>proj_location_name</th>\n",
       "      <th>proj_location_display_name</th>\n",
       "      <th>bio_loc</th>\n",
       "      <th>profile_loc</th>\n",
       "      <th>backer_cities</th>\n",
       "      <th>backer_countries</th>\n",
       "    </tr>\n",
       "  </thead>\n",
       "  <tbody>\n",
       "    <tr>\n",
       "      <th>0</th>\n",
       "      <td>515397789</td>\n",
       "      <td>US</td>\n",
       "      <td>WI</td>\n",
       "      <td>Town</td>\n",
       "      <td>Madison</td>\n",
       "      <td>Madison, WI</td>\n",
       "      <td>Madison, WI</td>\n",
       "      <td>Madison, WI</td>\n",
       "      <td>[{\"city\": \"Madison\", \"cnt\": \"42\", \"country\": \"...</td>\n",
       "      <td>[{\"country\": \"United States\", \"cnt\": \"87\"}, {\"...</td>\n",
       "    </tr>\n",
       "    <tr>\n",
       "      <th>1</th>\n",
       "      <td>2078514446</td>\n",
       "      <td>US</td>\n",
       "      <td>CA</td>\n",
       "      <td>Town</td>\n",
       "      <td>Los Angeles</td>\n",
       "      <td>Los Angeles, CA</td>\n",
       "      <td>Los Angeles, CA</td>\n",
       "      <td>NaN</td>\n",
       "      <td>[{\"city\": \"Chicago\", \"cnt\": \"10\", \"country\": \"...</td>\n",
       "      <td>[{\"country\": \"United States\", \"cnt\": \"29\"}, {\"...</td>\n",
       "    </tr>\n",
       "    <tr>\n",
       "      <th>2</th>\n",
       "      <td>8445205</td>\n",
       "      <td>US</td>\n",
       "      <td>ME</td>\n",
       "      <td>Town</td>\n",
       "      <td>Portland</td>\n",
       "      <td>Portland, ME</td>\n",
       "      <td>Cornish, ME</td>\n",
       "      <td>Cornish, ME</td>\n",
       "      <td>[{\"city\": \"Portland\", \"cnt\": \"34\", \"country\": ...</td>\n",
       "      <td>[{\"country\": \"United States\", \"cnt\": \"103\"}]</td>\n",
       "    </tr>\n",
       "    <tr>\n",
       "      <th>3</th>\n",
       "      <td>472273248</td>\n",
       "      <td>US</td>\n",
       "      <td>IL</td>\n",
       "      <td>Town</td>\n",
       "      <td>Chicago</td>\n",
       "      <td>Chicago, IL</td>\n",
       "      <td>Detroit, MI</td>\n",
       "      <td>Detroit, MI</td>\n",
       "      <td>[{\"city\": \"Chicago\", \"cnt\": \"16\", \"country\": \"...</td>\n",
       "      <td>[{\"country\": \"United States\", \"cnt\": \"81\"}, {\"...</td>\n",
       "    </tr>\n",
       "    <tr>\n",
       "      <th>4</th>\n",
       "      <td>1755519177</td>\n",
       "      <td>US</td>\n",
       "      <td>CA</td>\n",
       "      <td>Town</td>\n",
       "      <td>Los Angeles</td>\n",
       "      <td>Los Angeles, CA</td>\n",
       "      <td>Santa Monica, CA</td>\n",
       "      <td>NaN</td>\n",
       "      <td>[{\"city\": \"Los Angeles\", \"cnt\": \"13\", \"country...</td>\n",
       "      <td>[{\"country\": \"United States\", \"cnt\": \"27\"}, {\"...</td>\n",
       "    </tr>\n",
       "  </tbody>\n",
       "</table>\n",
       "</div>"
      ],
      "text/plain": [
       "           id proj_country proj_state proj_location_type proj_location_name  \\\n",
       "0   515397789           US         WI               Town            Madison   \n",
       "1  2078514446           US         CA               Town        Los Angeles   \n",
       "2     8445205           US         ME               Town           Portland   \n",
       "3   472273248           US         IL               Town            Chicago   \n",
       "4  1755519177           US         CA               Town        Los Angeles   \n",
       "\n",
       "  proj_location_display_name           bio_loc  profile_loc  \\\n",
       "0                Madison, WI       Madison, WI  Madison, WI   \n",
       "1            Los Angeles, CA   Los Angeles, CA          NaN   \n",
       "2               Portland, ME       Cornish, ME  Cornish, ME   \n",
       "3                Chicago, IL       Detroit, MI  Detroit, MI   \n",
       "4            Los Angeles, CA  Santa Monica, CA          NaN   \n",
       "\n",
       "                                       backer_cities  \\\n",
       "0  [{\"city\": \"Madison\", \"cnt\": \"42\", \"country\": \"...   \n",
       "1  [{\"city\": \"Chicago\", \"cnt\": \"10\", \"country\": \"...   \n",
       "2  [{\"city\": \"Portland\", \"cnt\": \"34\", \"country\": ...   \n",
       "3  [{\"city\": \"Chicago\", \"cnt\": \"16\", \"country\": \"...   \n",
       "4  [{\"city\": \"Los Angeles\", \"cnt\": \"13\", \"country...   \n",
       "\n",
       "                                    backer_countries  \n",
       "0  [{\"country\": \"United States\", \"cnt\": \"87\"}, {\"...  \n",
       "1  [{\"country\": \"United States\", \"cnt\": \"29\"}, {\"...  \n",
       "2       [{\"country\": \"United States\", \"cnt\": \"103\"}]  \n",
       "3  [{\"country\": \"United States\", \"cnt\": \"81\"}, {\"...  \n",
       "4  [{\"country\": \"United States\", \"cnt\": \"27\"}, {\"...  "
      ]
     },
     "execution_count": 21,
     "metadata": {},
     "output_type": "execute_result"
    }
   ],
   "source": [
    "ftr_loc.head()"
   ]
  },
  {
   "cell_type": "code",
   "execution_count": 19,
   "metadata": {
    "collapsed": true
   },
   "outputs": [],
   "source": [
    "def len_intrsctn(a,b):\n",
    "    return len(set(a)-set(b)), len(set(b)-set(a))"
   ]
  },
  {
   "cell_type": "code",
   "execution_count": 9,
   "metadata": {
    "collapsed": false
   },
   "outputs": [],
   "source": [
    "loc_in_prj = ftr_loc.proj_location_display_name.value_counts().reset_index()\n",
    "loc_in_prj.columns = ['City', 'prj_cnt']"
   ]
  },
  {
   "cell_type": "code",
   "execution_count": 16,
   "metadata": {
    "collapsed": false
   },
   "outputs": [],
   "source": [
    "loc_in_bio = ftr_loc.bio_loc.value_counts().reset_index()\n",
    "loc_in_bio.columns = ['City', 'bio_cnt']"
   ]
  },
  {
   "cell_type": "code",
   "execution_count": 22,
   "metadata": {
    "collapsed": false
   },
   "outputs": [],
   "source": [
    "loc_in_prfl = ftr_loc.profile_loc.value_counts().reset_index()\n",
    "loc_in_prfl.columns = ['City', 'prfl_cnt']"
   ]
  },
  {
   "cell_type": "code",
   "execution_count": 23,
   "metadata": {
    "collapsed": false
   },
   "outputs": [
    {
     "data": {
      "text/plain": [
       "((11969, 2), (471, 2), (11754, 2), (10515, 2))"
      ]
     },
     "execution_count": 23,
     "metadata": {},
     "output_type": "execute_result"
    }
   ],
   "source": [
    "loc_in_prj.shape, df_incm.shape, loc_in_bio.shape, loc_in_prfl.shape"
   ]
  },
  {
   "cell_type": "code",
   "execution_count": 20,
   "metadata": {
    "collapsed": false
   },
   "outputs": [
    {
     "name": "stdout",
     "output_type": "stream",
     "text": [
      "(11602, 104)\n",
      "(11400, 117)\n",
      "(3053, 2838)\n"
     ]
    }
   ],
   "source": [
    "print len_intrsctn(loc_in_prj.City, df_incm.City)\n",
    "print len_intrsctn(loc_in_bio.City, df_incm.City)\n",
    "print len_intrsctn(loc_in_prj.City, loc_in_bio.City)"
   ]
  },
  {
   "cell_type": "code",
   "execution_count": 27,
   "metadata": {
    "collapsed": false
   },
   "outputs": [],
   "source": [
    "loc_in_prj.merge(df_incm, how='outer').merge(loc_in_bio, how='outer').merge(loc_in_prfl, how='outer').to_csv('loc_list.csv')"
   ]
  }
 ],
 "metadata": {
  "kernelspec": {
   "display_name": "Python [default]",
   "language": "python",
   "name": "python2"
  },
  "language_info": {
   "codemirror_mode": {
    "name": "ipython",
    "version": 2
   },
   "file_extension": ".py",
   "mimetype": "text/x-python",
   "name": "python",
   "nbconvert_exporter": "python",
   "pygments_lexer": "ipython2",
   "version": "2.7.13"
  }
 },
 "nbformat": 4,
 "nbformat_minor": 2
}
