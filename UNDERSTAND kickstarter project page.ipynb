{
 "cells": [
  {
   "cell_type": "markdown",
   "metadata": {},
   "source": [
    "### Notes about pages\n",
    "1. layout of project can be different, two types are found so far\n",
    "    - (successful) https://www.kickstarter.com/projects/russellnohelty/i-cant-stop-tooting-a-love-story?ref=profile_created\n",
    "    - (failed) https://www.kickstarter.com/projects/russellnohelty/monsters-and-other-scary-shit-a-monster-anthology?ref=category_recommended\n",
    "2. project_url+/creator_bio: facebook connected or not; location or not"
   ]
  },
  {
   "cell_type": "code",
   "execution_count": 1,
   "metadata": {
    "collapsed": true
   },
   "outputs": [],
   "source": [
    "from bs4 import BeautifulSoup"
   ]
  },
  {
   "cell_type": "code",
   "execution_count": 2,
   "metadata": {
    "collapsed": false
   },
   "outputs": [],
   "source": [
    "import kick_parser; reload(kick_parser)\n",
    "from kick_parser import *"
   ]
  },
  {
   "cell_type": "code",
   "execution_count": 3,
   "metadata": {
    "collapsed": true
   },
   "outputs": [],
   "source": [
    "slugs = ['le-maritime-mandee', 'jacksonville-reel-recovery-film-festival', 'london-sketchfest-2016-exclusive-hidden-show-ticke', 'game-of-thrones-a-panto-of-ice-and-fire', 'walk-with-you-2016', 'barge-baby-heads-to-the-edinburgh-fringe-2014', 'the-remembering', 'is-saids-1st-annual-arts-and-theater-festival', 'eastern-beach-fireworks-extravaganza', 'the-last-5-years', 'how-does-a-snake-shed-its-skin-edinburgh-festival', 'instinct-theatres-original-play-edinburgh-fringe', 'cancer-survivor-drwilderness-has-magic-for-kids-wi', 'scotland-of-old-1562', 'haunted-marsh-fundraising', 'waiheke-island-of-burlesque-festival', 'the-worlds-fastest-moving-parade', 'laughter-is-medicinal', 'chic-bonbons-the-road-to-edinburgh-festival-fringe', 'the-rebirth-consortium', 'church-of-the-subgenius-devival-with-rev-ivan-stan', 'amuse-a-new-play-presented-by-venus-adonis-festiva', 'old-world-scotland', 'dadome-rollerskating-rink', 'preserving-david-shepherds-archives', '21-rooms', 'mrs-thundercunts-splooge-adventurers', 'cannabis-grand-cru-in-aspen-co-nov-14-16-2014', 'om-your-health', 'stand-up-to-bullying-theater-and-film-festival', 'helena-fringe-festival-actor-funding', 'king-and-queen-event', 'eine-art-festbook', 'santas-castle', 'im-not-creative-ive-got-bipolar-help', 'olli-fest-a-self-development-and-motivational-fest', 'toronto-community-festival', 'tink-the-musical-at-nymf', 'build-the-pop-up-globe-theatre-that-will-tour-the', 'support-tinderbox-in-the-adelaide-fringe', 'the-bloodmoon-faire-2016', 'much-ado-about-nothing-at-the-illuminate-festival', 'iws-expo-2017-the-international-wine-and-spirits-e', 'cavicon-lyon-2015', 'anatomy-in-action', 'fantastic-fringe-funding', 'the-theatre-company-presents-the-house-of-yes', 'get-terry-pratchetts-eric-to-the-edinburgh-fringe', 'deadline-at-the-fringe-2016', 'kurt-vonneguts-galapagos-orignal-theatrical-adapti', 'group-therapy', 'free-for-all', 'due-to-events', 'basement-creatures-rock-opera-performance-and-albu', 'club-diamond-a-new-stagework-by-nikki-appino-saori', 'genesis-a-comedy-in-rhymed-verse', 'bitter-pill-music-art-theatre', 'the-floatones-2015-at-la-mama', 'u-r-a-musical-graphic-novel-theatre-experience-for', 'living-room-circus', 'dancers', '901-nowhere-street', 'two-genius-husbands-at-dixon-place', 'chase-what-matters-most-at-dixon-place', 'the-skriker-is-coming', 'the-michael-show-with-amy-virginia-buchanan', 'a-play-on-freedom-frederick-douglass-vs-donald-rum', 'city-of-glass', 'my-name-is-b', 'the-runaways-present-the-party-house', 'the-girl-who-swallowed-the-sun', 'zolk-tizzer-sci-fi-rock-opera-the-voyage-continues', 'bride-of-frankenstein', 'material-witness-by-spiderwoman-theater', 'francesca-francesca-an-experiemental-mutlimedia-pl', 'belarus-free-theatre-help-create-burning-doors', 'songs-for-the-end-of-the-world', 'persephone-in-the-late-anthropocene', 'bohemian-lights', 'help-us-bring-storm', 'bambif-cker-kaffeehaus', 'the-orpheus-variations-at-the-under-the-radar-fest', 'normal-things-in-nijmegen', 'thatswhatshesaid', 'i-grant-i-am-a-woman-shakespeare-based-original-wo', 'skin-of-the-teeth', 'glass-jaw', 'queer-ill-and-okay', 'bloodlines', 'digs', 'chicken-at-richmix', 'once-upon-a-roach-part-1', 'mitchs-movie-pitches-goes-to-edinburgh-fringe-2015', 'acting-like-a-man', 'stagelab24', 'aaah-album-release-event', 'the-afterglow-fan-party-imagine-first-time-ever-in', 'screen-eyed-baby-ice-performance-series', 'gomela-to-return-movement-of-our-mother-tongue', 'send-the-theater-of-public-policy-to-washington-dc', 'slaves-of-sleep-by-moody-old-man-theatre', 'imagining-o', 'preggers', 'dos-pueblos-tecnicos', 'harvest', 'ian-mackinnons-gay-music-revolution', 'what-has-never-been-a-magritte-inspired-movement-p', 'line-one-a-cell-phone-play', 'life-is-no-laughing-matter-demi-nandhra', 'today-is-my-100th-birthday-or-the-disappearance-of', 'spaces-1', 'seven-performance-film-brighton-fringe-2016', 'danielle-imaras-insane', 'draconian-knights', 'camel-camel-2015-international-tour', 'showbiz-active-terrorism-a-multimedia-musical', 'mermaids-howl', 'doorkruising-encounters', 'genesis-and-nemesis', 'you-the-musical', 'beard-and-bean-steampunk-science', 'crown-the-new-emperor-of-the-united-states', 'gods-ear-an-independent-theatre-production', 'bom-circo', 'the-prepared-table', 'somethings-in-the-living-room-a-physical-theatre-s', 'grey-man-at-theatre503-a-bold-theatrical-experimen', 'lights-out-0', 'a-roller-rink-temptation-nola-fringe-fest-xoxo', 'mamacaravana', 'judgment-on-a-gray-beach', 'sidewalk-comedy-troupe', 'the-24-hour-theatre-challenge-halloween-special', 'castaway-of-the-earth-human-order-and-disorder', 'i-camminatori-in-teatro', 'variety-showcase', 'an-experimental-last-tape', 'fall-on-pluto-documentary-performance-about-man-an', 'accountable-by-spirit-bird', 'netherworld-home-haunt-2015', 'get-robin-to-russia-and-student-folktale-theater-s', 'the-conversation-box', 'iami', 'the-dfw-battle-league', 'blue-river-drama', 'glasgow-parkour-movement', 'modern-extreme-grappling-arts', 'verve-next-new-theatre-project-in-sudbury', 'where-your-shows-truly-come-alive', 'publikumsbeschimpfung-offending-the-audience', 'stones-throw', 'the-new-now-at-tri-cycle-farms', 'training-day-0', 'fireface-by-marius-von-mayenburg', 'mark-bryans-chicken-run', 'the-duck-variations-by-david-mamet', 'mannequins-a-new-experimental-sound-play', 'page-to-stage-presents', 'ariadne-on-the-island-the-cutout-theatre', 'perpetual-summer-tour-2016', 'das-spiel-are-you-part-of-the-game-at-ovalhouse-th', 'loving-buttons-a-flood-is-coming-performance-poem', 'time-to-talk-to-jane-at-the-brighton-fringe', 'marisas', 'the-happy-ones', 'the-2015-theatre-revolution', 'medusaa-trap-by-eric-satie-rarely-staged-french-cl', 'impossibilities-magic-mindreading-and-mayhem', 'help-send-object-collection-to-norway', 'are-you-there-god-its-me-karen-carpenter', 'cock-and-bull-theatre-launches-the-titanic', 'the-whale-in-the-bath-tub', 'live-arts-exchange-festival-lax', 'bringing-variety-back-to-melbourne-with-a-focus-on', 'experimental-opera-tydrus-the-twit', 'sokamba-presents-echo', 'three-translations-of-uncle-vanya-at-the-same-time', 'help-me-im-dying-the-show', 'an-evening-with-savvy-b', 'crowdfund-my-kerfuffle-bit', 'pussy-patrons-cum-to-london', '21st-century-play', 'open-mic-pa-baras-backe', 'matadora', 'the-christmas-tree-hugger', 'cracked-survival-experience-15', 'monk-parrots-2015', 'divers-theater-o2tales-spectators-go-under-the-wat', 'write2performs-the-sunday-escort', 'we-adore-the-northshore', 'soundtracks-to-simulated-cruelties', 'pop-a-theatrical-experience-project-2016', 'tempest-rogues-living-history-pirate-crew', 'childhood-dreams', 'ziggy-crawl', 'the-inventorium', 'carnal', 'watch-this-space-55-minutes-in-2146', 'dont-let-caroline-mabey-and-michael-legge-go-to-ed', 'led-custom-costumes-for-theatre', 'the-first-live-performance-in-an-holographic-world', 'destroying-babylon', 'phonostage', 'volda-komiklubb', 'allen-gardner-dance-theatre', 'irish-i-was-laughing-comedy', 'subgenius-devival-orlando', 'que-spanish-on-stage', 'fml-im-20-something-sarcasm', 'cross-arts-performance', 'guise', 'i-will-attempt-to-destroy-a-nokia-3310', 'fun-with-flags-live-unraveling-flag-history-and-my', 'crave-by-sarah-kane', 'talia-audiodrama-album-performance-and-film', 'hallowbash-2015-the-dead-know-how-to-party', 'celebrate-the-macabre-with-the-black-circus', 'podcast-productions', 'mostly-mystery', 'surfing-life-film-aussie-living', 'immersive-puzzle-vintage-pepsi-machine', 'tldr-live', 'travelling-science-magic-show-science-excites', 'liberation', 'fright-on-fairlawn-a-free-haunted-garage', 'help-chirpz-the-bird-flap-to-london', 'chill-dinner-ice-theater-project', 'crystal-jukebox-hymn', 'rumors-make-art-in-little-town', 'duel-by-design', 'subpoetics-international', 'to-love-somebody', 'the-hollows-community-haunted-party', 'cemetery-creations-2016-home-haunt-dungeon-of-fear', 'get-harry-to-go-on-a-date', 'yeah-im-listening', 'world-peace-humanitarian-anthem-help-support-world', 'all-out-a-dramatic-presentation-of-transgender-act', 'wicked-ways-productions', 'circle-mirror-transformation-a-freeks-theater-prod', 'showhero', 'apollos-muse-showcase', 'hawaii-opera-theatre-hot-presents-opera-in-a-wareh', '52-free-workshops-in-52-weeks', 'haunted-house-fundraiser', 'robo-s-thompson', 'clubby', 'alzheimer-an-opportunity-to-love', 'a-mid-summers-nightmare-theatrical-performance', 'mi-libro-abierto', 'slut', 'saginaw-indoor-skate-facility', 'time-capsule-1987', 'the-kurdi-margolis-wright-trio-cclc-trescott-me', 'blood-below', 'tallent-for-tomorrow', 'dog-pony-elephant-or-ass-a-com-project', 'brian-turners-stand-up-comedy', 'perform-in-the-great-square-circle', 'lanthan-mire-in-a-world-of-no-revision', 'stunt-i-will-ride-my-bike-off-my-roof', 'patricks-first-date-extraordinaire', 'my-cup-runneth-over', 'skating-insperations', 'class-to-the-future', 'the-leah-heal-project', 'the-worlds-first-kickstarter-conference', 'pirates-of-the-carribean-larp', 'eating-cereal-with-my-feet', 'us-bent', 'becoming-inga', 'a-black-girls-guide-to-growing-up-minn-ee-so-tan', 'indistinguishable-from-magic', 'invisipresentbecause-its-the-thought-that-counts', 'medea-the-rise-of-a-woman', 'jane-austen-drinks-the-young-wine', 'the-shadowlands-haunted-attraction', 'pure-wrestling-entertainment-promotions', 'help-create-the-inspire-the-escape-conscious-found', 'stand-for-african-children', 'everette-hartsoes-badgirl-sketchbook-vol5', 'rent-a-pound', 'new-neighbors-show-adaptation-from-real-life-inter', 'babys-day-out-stu-goes-to-manchester', 'tires-a-womans-journey', 'you-can-insult-threaten-me-to-relieve-stress', 'mystic-circus-tour-van', 'orw-school-of-wrestling', 'impaired-vision-or-what-we-are-left-with', 'the-devils-horde-zombie-survival-adventure', 'chamber-of-terror-haunted-house', 'dolla-4-impala', 'shadow-mansion', 'the-dragon-theater-and-drafthouse', 'animal-soul-0', 'my-first-comedy-show-about-mylife-plain-as-yesterd', 'the-con-of-men-interactive-theater', 'that-woman-the-new-electro-opera-1936-1981', 'mustache', 'the-lion-in-winter-1', 'whos-a-pretty-insert-gender-here', 'playing-hamlet', 'binibon-an-opera-by-elliott-sharp', 'us-bent-0', 'mike-hoffmans-halloween-nightmare-art-book', 'living-with-lola', 'lets-add-a-million-missing-words-to-the-dictionary', 'innovation-women-technical-and-entrepreneurial-spe', 'no-bull-sports', 'wenlin-abc-cantonese-dictionary-website-ed-robert', 'walkzee-a-free-platform-to-find-and-walk-local-she', 'openfarm-learn-to-grow-anything', 'mytranshealth-a-healthcare-website-for-the-trans-c', 'ruby-on-rails-tutorial', 'dollar-dollar-bill-bringing-transparency-to-ca-ele', 'learn-functional-programming-with-lambdaschool', 'disaster-prep-made-practical-your-personal-lifetim', 'school-of-code-the-multiplayer-coding-experience', 'rinkatlas-useful-info-about-north-american-hockey', 'secret-sauce-the-ultimate-growth-hacking-and-marke', 'aallii-employment-solutions-for-military-families', 'revolutionizing-website-design-curriculum-in-high', 'apprentice-program-crowdsourced-training-for-hero', 'zenypass-simplify-and-secure-your-online-life', 'the-florist-up-my-street-co-operative', 'explore-campaign-finance', 'date-a-veteran-and-disabled-veterans-website', 'culsire-kul-sire-where-culture-meets-desire', 'uspf-2014-streaming', 'clockbeats-break-the-sound-barriers', 'gif-vs-gif', 'utaforum-40', 'export-graphics-tutorials-for-all', 'ancient-philippine-script-web-translator', 'vaytus-music-streaming-indie-lovers-deserve', 'e-hero-new-and-innovative-learning-platform-for-st', 'learn-to-write-responsive-mobile-applications-in-j', 'firewalls-dont-stop-dragons', 'hoplerco-share-build-and-launch-your-innovative-pr', 'website-for-language-exchanges-an-online-tandem-ex', 'pride-20-the-next-wave-of-freedom-for-lgbtq-people', 'happily-ever-after-an-online-premarital-course', 'your-learning-zone-it-only-takes-a-minute-to-get-i', 'download-more-internet', 'the-influencers-movement-jointim', 'thelittlegreenshop', 'azimuth-climate-data-backup-project', 'status-getter', 'shareafileio-easy-file-sharing', 'kiss-ui-free-and-open-source-ui-toolkit', 'water-leak-detection-and-usage-monitoring-for-your', 'chexma', 'black-lesbian-social-site', 'online-overview-of-2nd-hand-synth-and-other-hardwa', 'trippydu-the-easiest-way-to-travel-for-students', 'equipment-safety-and-project-management-software', 'jz-lace-custom-bracelet-online-store-relaunch', 'a-website-real-life-home-buyers', 'histochart-a-searchable-map-of-all-history', 'bandagogo-helping-bands-sell-instant-digital-downl', 'virtual-shoe-closet-vsc', 'treebu', 'webabbel-gamification-diskussionsplattform', 'ibarter', 'ecofirm-plant-trees-for-free-wherever-you-want', 'video-elearning-delivering-digital-skills-for-busi', 'heartmob', 'creatur-code-decouvrir-lhtml-et-le-css-en-samusant', 'saveohnoorg', 'financeu-build-your-own-scholarship', 'learn-angular-2-development-by-building-10-apps', 'myspeakingevents-event-calendar-for-professional-s', 'make-a-website-from-scratch-without-code-wordpress', 'not-your-mum', 'high-performance-django', 'picardy-build-better-music-skills', 'retropacks-subscription-photography-service', 'introduce-the-power-of-judo-math-to-kids-everywher', 'ldsconnectorg', 'teen-made-invest-in-the-future', 'projects-in-angularjs-learn-angularjs-with-10-proj', 'cortex-music', 'drupal-8-training-videos-help-us-make-drupal-magic', 'partplay-practice-companion-for-classical-musician', 'webuyblackcom-expanding-to-include-service-based-b', 'global-prayer-partners-help-us-fulfill-prayers-wor', 'social-network-for-people-nearby', 'blind-trip-vacanza-al-buio', 'internet-marketing-made-simple-for-creatives-and-e', 'mooring-availability-on-line', 'co2altdelete-deleting-greenhouse-gas-forever', 'x-dom-the-extraordinary-domotic-solution', 'wplight-iot-light-for-wordpress', 'first-site-ever-comparing-how-major-news-is-report', 'wouai-your-virtual-personal-concierge', 'my-hobby-your-hobby', 'newsverifiercom-a-system-to-stop-fake-news', 'kimspirationcom', 'yappay-20', 'ubiqvision', 'the-web-project', 'hackify', 'your-medical-alerts-records-instantly-viewed', 'whichwinerycom-the-worlds-largest-wine-travel-plat', 'wilde-paare-die-online-community-fur-paare', 'interactive-studyrooms', 'web-3d-design', 'better-translation', 'the-it-community-project-an-online-it-knowledge-ba', 'youtubernetcom', 'owner-group', 'partyforus', 'un-site-communautaire-pour-le-jeu-mobile-legends', 'we-can-care', 'every-vote-counts-guaranteed', 'isdebatablecom', 'virtual-attendant-cloud-business-phone-services', 'prototypo-streamlining-font-creation', 'bring-reading-rainbow-back-for-every-child-everywh', 'the-return-of-upcomingorg', 'webhook', 'propel-making-the-government-more-user-friendly', 'the-tv-tropes-revitalization-project', 'comunnnet-community-sharing-and-archiving-your-way', 'learn-to-animate-with-code-video-training', 'mapping-with-drones', 'docker-for-devops-from-development-to-production', 'simpla-the-future-of-web-content', 'pianu-a-new-way-to-play-piano', 'octalysis-prime-the-gamified-learning-journey', 'adore-your-walls', 'flik-coaching-tool-for-ultimate-train-better-play', 'magnetic-html-tiles', 'infinernet-phase-1', 'kalabox-advanced-web-tools-for-the-people', 'smartbe-intelligent-website-and-ecommerce-software', 'tapewo-talented-people-at-work', 'goaleo-the-sport-social-hub', 'improved-postgresql-support-in-django', 'the-classic-daily-deal-site', 'carrots-and-flowers-30-day-fun-challenge', 'inkster-help-starving-artists-all-over-the-world', 'atom-online-learning-community', 'kitsune-music-academy', 'make-baseball-fun-again-with-dugout-captain', 'class-insecta', 'just-jilted-wedding-website', 'dogsense-online-dog-training-thats-simple-effectiv', 'education-for-humanity', 'learn-javascript', 'buy-the-domain-name-lovesspace', 'infoactive-drop-live-data-into-interactive-infogra', 'nikweli-getting-youth-hired-in-tanzania', 'the-open-source-fandom-chat-client-version-413', 'secular-women-work-conference', 'the-st-james-of-jerusalem-school-of-theology', 'bring-greenwald-to-sweden', 'fidus-store', 'pupjoy-helping-dog-parents-treat-better', 'avennucom-space-for-everyone', 'veteran-owned-business-search-site', 'acropediaorg-kickstarter', 'lost-and-found-pets-the-most-advanced-globalized-s', 'appbook-some-chats-are-worth-printing', 'level-bringing-internet-cafes-to-underserved-commu', 'powerkickers-kickstarter-project-research-data', 'a-digital-library-to-build-incredible-post-militar', 'gongs-batik-and-sate-wiki-tools-for-balinese', 'launching-mommys-toolbox', 'a-website-for-my-classroom', 'help-move-lbna-to-a-new-home', 'spotter-online-local-advertising-media-placement-p', 'making-my-amateur-travel-blog-professional', 'citadel-edit-any-website', 'rasptor-tor-search-engine-using-a-cluster-of-raspb', 'uk-christian-chart', 'act-natural-web-app', 'lockin-we-secure-your-data', 'primrose-place-where-your-legacy-becomes-a-book', 'multi-seller-website-for-handcrafted-wood-metal-ho', 'trsst-a-distributed-secure-blog-platform-for-the-o', 'redesign-swtorconquestcom', 'edshelf-socially-curated-directory-of-education-te', 'majorclarity-test-your-major-today', 'fitfit', 'impute-my-genome', 'eye-candy-skateboards', 'editr-web-based-code-editor', 'avalonplay-join-the-revolution', 'epic-email-email-salutations-that-will-make-you-sm', 'roomer-mil-llp-roommate-matchmaking-for-military', 'transgender-murder-violence-and-suicide-website', 'luna-ai', 'playiq-cognition-and-gaming', 'unstumpcom-a-better-way-to-get-the-answers-you-nee', 'kazzit-international-winery-guide', 'culture-clips-pilot-launch', 'neocities-30-an-interactive-html-css-course-for-ev', 'vpnghost-complete-anonymity-privacy-is-your-human', 'webuyblackcom-the-largest-market-place-for-black-s', 'the-naked-bullfrog-sustainable-living-at-your-fing', 'kfetal-reseau-de-cafes-virtuels-sans-archivage-et', 'flowartsme-learn-to-flow-and-contribute-your-knowl', 'wordpress-photographers-bundle', 'angular2-from-zero-to-hero-online-course-and-ebook', 'ye-olde-tutor-interactive-online-tutorials', 'theairlineproject', 'strat-shark-the-gamers-playbook', 'whats-your-future-anything-join-our-tutoring-revol', 'mybooktable-3', 'the-kudos-credits', 'mount-dream-a-pre-kickstarter-tool-launching-on-ki', 'coomo-travel', 'supporting-disabilities', 'school-idol-tomodachi', 'projects-in-nodejs-learn-nodejs-by-building-10-pro', 'manglory-the-men-marketplace', 'help-beginning-artist-afford-a-gallery-web-based', 'shestarts-help-women-start-and-grow-their-business', 'wheelchair-world', 'xirkl-social-network', 'quick-jewelry-repairs', 'givtree-revolutionise-charity', 'a-clever-booking-website-for-anyone-who-runs-class', 'help-firsthand-weather-raise-1200', 'see-why-link-to-fitness-was-featured-on-993-espn', '23hrs-revolutionizing-community-service', 'get-p-caronline-back-up', 'to-buy-my-first-website-42-for-the-first-5-years', 'piedmont-smes-online-collective-mark', 'threatswitch-making-conforming-change-2-easy', 'dibind-change-the-world-one-couch-at-a-time', 'food-test-network-know-whats-not-in-your-food', 'online-knowledge-resource-for-rare-genetic-disease', 'the-ultimate-e-commerce-website', 'highly-offensive-mom-coming-in-the-spring-of-2015', 'credit-union-match', 'cs-lewis-index-0', 'townwave-music-artist-discovery-website-and-mobile', 'slim-by-design-method-the-ultimate-monthly-lifesty', 'game-central-365', 'hockey-iq-academy-online-curriculum-for-youth-hock', 'local-firefighters-trusted-for-hire-after-the-fire', 'book-content-ratings', 'the-r-evolution-of-running', 'wifi-gratuit-pour-tous-a-metz', 'starcraft-ii-unmasked', 'myredfolderthat-is-to-say-your-red-folder', 'mybookprogress', 'power-box-black-owned-business-resource', 'have-santa-text-your-child-this-christmas', 'goretreatcom-a-retreat-booking-website', 'bad-idea', 'the-fancy-snarks-official-website', 'fresh-meat', 'the-story-of-life-leave-your-digital-legacy', 'ourrecoverycom', 'coastercrazycom-coder-fundraising', 'advanced-web-tools', 'miramir-social-network-for-change', 'deshitch-dein-personlicher-tropfen-wahrheit', 'les-dilettantes', 'the-social-way-to-get-a-job-making-employment-huma', 'magical-comedy-site-startup', 'world-peace-is-just-one-step-further', 'sweetdate4u-business-helper-aide-aux-commercants', 'webcloak-advanced-web-security-and-online-privacy', 'send-your-friend-or-enemy', 'phpopcorn', 'daily-cowfortune', 'the-rebuild-of-anxiety-united-after-cyber-criminal', 'my-homemaking-mentor-online-training-academy', 'vendscore', 'messenger-rock', 'cyber-sentinelle-votre-protection-rapprochee-sur-i', 'roomswaps-new-mobile-platform', 'rentcharlie-a-rent-anything-website', 'subscription-box-service-for-tween-girls', 'litrate-an-online-community-for-book-lovers', 'online-training-make-apps-and-sites-accessible-to', 'talky-the-first-truly-simple-video-chat', 'a-song-a-day-for-those-too-busy-to-discover-new-mu', 'nurph-the-twitter-chat-revolution', 'broadcasting-websites-to-rural-kenya-using-tv', 'save-classic-rock-concertscom', 'makeyourmovetv-the-next-step-channel-for-teens', 'myxbits-social-media-for-places-and-objects', 'jz-lace-custom-bracelet-online-store', 'http-ss-a-brand-new-faster-internet-protocol', 'tourandfreecom', 'retire248com', 'from-photo-to-table-relaunch', 'ehsweb', 'uzbey', 'voices-where-opinions-of-the-many-outweigh-views-o', 'petlogger', 'open-source-technology-improvement-fund-ostif', 'home-brewer-exchange-website', 'a-billion-pixels', 'actupcfr-soyez-joueur-soyez-testeur', 'interactc-online-platform', 'the-crimson-rose-cafe', 'statgraphica-find-compare-and-share-data-on-the-we', 'diamondssocialnetwork', 'high-school-football-focus', 'professional-english-for-professionals-proenglishp', 'be-a-part-of-the-comeyounitycom', 'score-me', 'polstrat-take-back-your-democracy', 'construction-profile', 'makeyourcaseorg', 'traveloriscom-holiday-planning-made-fun-and-easy', 'ubu-university-by-u', 'copyright-rights-management-and-contracting-portal', 'sucheus-website-directory-wwwsucheuscom', 'joggingbuddy-find-someone-to-go-running-with', 'grow-with-us-into-something-great-by-advertising-t', 'terra-share-economy-share-land-cultivation-share-b', 'twidstercom', 'findme-0', 'socialitehouse-the-social-way-to-find-or-sell-a-ho', 'wepul-trade-skills-for-free', 'pm-builder-easy-design-and-prototyping', 'lost-pet-rescue-australia-online', 'nerto-national-equine-registraiton-and-titling-org', 'thinktankscom', 'kidokey', 'globe-see-through-the-earth', 'flaminke-a-dslr-lens-rental-membership-community', 'louisiana-heritage-cultural-foundation-development', 'meeet-co-finish-your-side-projects-find-your-next', 'gaylocale-we-have-arrived', 'twigzy-plant-database', 'the-writers-ide-online-software-for-writers', 'filmkeep-rate-movies-love-film', 'x5cms-cms-for-html-websites', 'go-asero', 'smyth-planning', 'fr33bay-for-aussies', 'think-boise-first', 'dreamskatingcom', 'werunqc', 'myspotontheworld', 'collab-circle-a-social-media-app-for-youtubers', 'mobile-website-development-company', 'la-grande-ride', 'professional-way-to-decorate-your-grad-cap-website', 'grannymon', 'mylobby-a-repository-of-common-sense-made-for-the', 'inemergenciescom-global-emergency-contact-system', 'animal3000', 'cashburgercom', 'shifter-serverless-hosting-for-wordpress', 'tracking-localised-global-warming-and-weather-patt', 'project-mecca', 'yolked-health-and-fitness-online-business', 'remote-controlled-humans', 'share-your-toy', 'e-commerce-home-design', 'aedan-reach', 'tammy-and-friends-travel-learn-share-grow', 'antybuddycom', 'no-more-online-ads', 'extroveert-website', 'columbus-adventures-real-people-real-ideas-no-bias', 'master-apple-watch-development-by-building-15-apps', 'gaming-streaming-producing', 'social-dating-on-facebook', 'finish-this-advanced-text-message-and-voice-market', 'nandibearcom-book-tracking-website', 'sameasme-find-a-person-that-looks-like-you', 'send-late-bloomers-flowers', 'fitfinder-nz', 'wikiprogramming', 'start-up-platform', 'b360-suite', 'an-online-portal-for-a-hassle-free-car-repair-expe', 'beer-can-wifi-booster', 'greyx-study-faster-smarter-and-more-effectively-no-0', 'gradlancer-the-student-services-marketplace', 'the-upstart-launchpad-teaching-kids-business', 'the-banana-scale-project', 'altrincham-interchange', 'faithnation-christian-based-media-discovery', 'specstalk', 'the-grades4life-project', 'juliar-web-for-a-nonlogical-mind', 'christian-networking-to-grow-in-faith', 'telescope-mount-usb-control-cable', 'jivin-let-the-competition-begin', 'bounce-life-anywhere', 'last-cam-standing', 'the-fashion-forbes', 'trentstockcom-tons-of-free-tech-and-event-stock-ar', 'kwoteit', 'presents-today', 'gifted-community-message-me-for-more-info', 'idosh-i-do-sharing-share-your-ride-share-your-hobb', 'court-of-public-opinion-website-let-the-public-jud', 'share-it', 'skate-social', 'cultivate-and-connect-in-the-usa', 'the-online-platform-for-students-and-graduates', 'tag-ved-lre-af-ldre-menneskers-erfaringer', 'search-all-government-surplus-auction-websites-at', 'mom-create-organize-and-send-meeting-minutes', 'recall-guard', 'help-teachers-trade-stuff-with-other-teachers', 'emotate-the-worlds-first-emotional-social-network', 'jaxi-the-robot', 'verified-date-revolutionizing-the-dating-scene', 'wikups-plate-forme-de-micro-blogging', 'steamoctane-electronic-tips-and-tutorials', 'talnapp', 'project-myroom', 'resume-face-lift', 'homehalo-the-powerful-but-simple-parental-control', 'wwwfitnessmilitianet', 'jaz-enterprises-creating-new-jobs', 'the-complete-wordpress-course-build-6-websites', 'american-pick-inc', 'mst-assisting-college-students-succeed', '18-wheelz', 'global-email-postal-service', 'wimpelcentrumnl', 'winemaker-academy-for-winemaker-and-consulting-blo', 'group-buying-portal-proof-of-concept', 'vancouver-island-mysteries', 'live-to-move', 'meditation-online', 'meesites-einfach-webseiten-erstellen', 'meet-my-tutor', 'deb8ablenet-factchecking-the-world', 'jumbawumba-your-internet-easy-personal-secure', 'elis-der-digitale-assistent-fur-die-post-von-morge', 'automotive-parts-search-engine', 'new-projects-serving-entrepreneurs-with-e-learning', 'hemi-swap-technology-database', 'beerfestivalfindercom', 'phobias-at-the-movies', 'footyswap-online-community-for-soccer-football-jer', 'martsocialcom', 'dreameat-discover-and-taste', 'project-collaborate', 'epic-clan-and-guild-platform', 'vendor-in-a-box-easy-affordable-inventory-manageme', 'my-fitness-buddy', 'dental-articles-blog', 'votematrix-revolution-fix-democracy', 't33nz-college-dating-website-project', 'build-and-host-websites-and-blogs-easily', 'expositus-helping-humans-learn-about-the-humanitie', 'upgameload', 'zimplyu-social-network-that-connects-people-by-int', 'tagged', 'cj-development-track', 'my-a-mazing-academic-profile', 'pinpoint-beauty', 'nachhilfe-vermittlungsplattform-schweiz', 'play-with-kittens-via-robot', 'new-un-censored-social-media-website', 'real-estate-search-and-posting-website', 'perfect-skate-spots-pss', 'build-serve-and-protect-first-responder-mental-hea', 'lettstry-something-new', 'planet-vino-a-step-by-step-intro-to-the-world-of-w', 'the-next-gen-open-source-cms', 'online-womens-resource-center', 'hapnd-the-simple-useful-social-network', 'mymiti-help-us-build-an-online-community-for-clima', 'cage-match-the-worlds-first-nicolas-cage-dating-we', 'ambassador', 'sharememusic-website-api', 'atlantic-intracoastal-waterway-icw-80211-wi-fi-net', 'greenboxfloralcom', 'youtoldme-prove-the-truth-prove-what-they-told-you', 'picking-future-candidates-not-as-easy-as-making-po', 'webterapeutdk-vejen-til-succes', 'need-capital-for-web-development-company', 'sportsfyle-social-networks-for-each-sport', 'whats-best-for-me-college-degree-or-skills-trainin', 'apex-math-tutor', 'tech-literacy-for-all-students', 'pride-book', 'training-and-collaboration-site-for-sales-professi', 'theyburiedus-rural-cemetery-digital-preservation', 'megamindideascom', 'linkme', 'rentahcom-where-anyone-can-rent-anything-sharingec', 'eshowplaces-make-your-website-amazing', 'piceet-a-democratic-website', 'tom-bowl-website', 'homesteader-hub-find-likeminded-folks-near-you', 'fully-independent-insurance-comparison', 'the-online-pond-building-course', 'anijs-studio', 'the-pulpit-project', 'technology-zone', 'notelion-notes-you-can-relion', 'the-alikes']"
   ]
  },
  {
   "cell_type": "code",
   "execution_count": 4,
   "metadata": {
    "collapsed": false
   },
   "outputs": [],
   "source": [
    "\n",
    "all_res = []\n",
    "# slug = '18-wheelz'\n",
    "# slug = '52-free-workshops-in-52-weeks'\n",
    "debug = True\n",
    "for i, slug in enumerate(slugs):\n",
    "    res = {'slug': slug}\n",
    "    fn_template = 'html/{}_{}.html'\n",
    "    \n",
    "    with open(fn_template.format(slug, 'proj')) as f:\n",
    "        soup = BeautifulSoup(f)\n",
    "        parse_proj_page(soup, res, debug=debug)\n",
    "    \n",
    "    with open(fn_template.format(slug, 'creator-bio')) as f:\n",
    "        soup = BeautifulSoup(f,from_encoding='utf-8')\n",
    "        parse_creator_bio_page(soup, res, debug=debug)\n",
    "\n",
    "    with open(fn_template.format(slug, 'creator-full')) as f:\n",
    "        soup = BeautifulSoup(f)\n",
    "        parse_creator_full_page(soup, res, debug=debug)\n",
    "        \n",
    "    try:\n",
    "        with open(fn_template.format(slug, 'community')) as f:\n",
    "            soup = BeautifulSoup(f)\n",
    "            res['has_community'] = 1\n",
    "            parse_commnunity_page(soup, res, debug=debug)\n",
    "    except IOError as e:\n",
    "#         print i, e\n",
    "        res['has_community'] = 0\n",
    "        pass\n",
    "        \n",
    "    all_res.append(res)"
   ]
  },
  {
   "cell_type": "code",
   "execution_count": 5,
   "metadata": {
    "collapsed": false,
    "scrolled": false
   },
   "outputs": [
    {
     "data": {
      "text/plain": [
       "Index([u'#backer', u'#bio_backed', u'#bio_created', u'#collaborators',\n",
       "       u'#comments', u'#new_backer', u'#pledges', u'#return_backer', u'#upd',\n",
       "       u'#websites', u'backer_cities', u'backer_countries', u'bio',\n",
       "       u'bio_auto_verified', u'bio_facebook', u'bio_loc', u'blog_mention_html',\n",
       "       u'description_html', u'has_community', u'is_small_community',\n",
       "       u'len_badge', u'len_bckr', u'len_blog', u'len_cities_div',\n",
       "       u'len_comments', u'len_countries_div', u'len_des_div', u'len_details',\n",
       "       u'len_facebook', u'len_full_bio', u'len_header', u'len_header_p',\n",
       "       u'len_joined', u'len_location', u'len_new_backer_div',\n",
       "       u'len_return_backer_div', u'len_rew_div', u'len_tipsys', u'len_upd',\n",
       "       u'pledges', u'profile_badge', u'profile_joined_time', u'profile_loc',\n",
       "       u'slug', u'user_deleted'],\n",
       "      dtype='object')"
      ]
     },
     "execution_count": 5,
     "metadata": {},
     "output_type": "execute_result"
    }
   ],
   "source": [
    "import pandas as pd\n",
    "df = pd.DataFrame.from_dict(all_res)\n",
    "df.columns"
   ]
  },
  {
   "cell_type": "code",
   "execution_count": 26,
   "metadata": {
    "collapsed": false
   },
   "outputs": [
    {
     "data": {
      "text/plain": [
       "#backer                                                                  1\n",
       "#bio_backed                                                              0\n",
       "#bio_created                                                             1\n",
       "#collaborators                                                           0\n",
       "#comments                                                                0\n",
       "#new_backer                                                            NaN\n",
       "#pledges                                                                 2\n",
       "#return_backer                                                         NaN\n",
       "#upd                                                                     0\n",
       "#websites                                                                0\n",
       "backer_cities                                                          NaN\n",
       "backer_countries                                                       NaN\n",
       "bio                                                     Stud mate Wearing.\n",
       "bio_auto_verified        This person verified their identity through an...\n",
       "bio_facebook                                                 Not connected\n",
       "bio_loc                                                     Manchester, UK\n",
       "blog_mention_html         <div class=\"NS_projects__blog_mentions\">\\n</div>\n",
       "description_html         <div class=\"col col-8 description-container\">\\...\n",
       "has_community                                                            0\n",
       "is_small_community                                                     NaN\n",
       "len_badge                                                                1\n",
       "len_bckr                                                                 2\n",
       "len_blog                                                                 1\n",
       "len_cities_div                                                         NaN\n",
       "len_comments                                                             1\n",
       "len_countries_div                                                      NaN\n",
       "len_des_div                                                              1\n",
       "len_details                                                              1\n",
       "len_facebook                                                             1\n",
       "len_full_bio                                                             1\n",
       "len_header                                                               1\n",
       "len_header_p                                                             1\n",
       "len_joined                                                               1\n",
       "len_location                                                             0\n",
       "len_new_backer_div                                                     NaN\n",
       "len_return_backer_div                                                  NaN\n",
       "len_rew_div                                                              1\n",
       "len_tipsys                                                               1\n",
       "len_upd                                                                  1\n",
       "pledges                  [{\"money\": \"\\u00a31\", \"limit\": \"Limited\", \"des...\n",
       "profile_badge                                                      Creator\n",
       "profile_joined_time                                               Jan 2015\n",
       "profile_loc                                                           NULL\n",
       "slug                                  babys-day-out-stu-goes-to-manchester\n",
       "user_deleted                                                             0\n",
       "Name: 283, dtype: object"
      ]
     },
     "execution_count": 26,
     "metadata": {},
     "output_type": "execute_result"
    }
   ],
   "source": [
    "df.loc[283]"
   ]
  },
  {
   "cell_type": "code",
   "execution_count": 13,
   "metadata": {
    "collapsed": false
   },
   "outputs": [],
   "source": [
    "df[[x for x in df.columns if not x.startswith('len')]].to_csv('800 projects.csv', encoding='utf-8')"
   ]
  },
  {
   "cell_type": "code",
   "execution_count": 17,
   "metadata": {
    "collapsed": true
   },
   "outputs": [],
   "source": [
    "df_read = pd.read_csv('800 projects.csv', index_col=0)"
   ]
  },
  {
   "cell_type": "code",
   "execution_count": 25,
   "metadata": {
    "collapsed": false
   },
   "outputs": [
    {
     "name": "stdout",
     "output_type": "stream",
     "text": [
      "#backer\n",
      "#bio_backed\n",
      "#bio_created\n",
      "#collaborators\n",
      "#comments\n",
      "#new_backer\n",
      "#pledges\n",
      "#return_backer\n",
      "#upd\n",
      "#websites\n",
      "backer_cities\n",
      "backer_countries\n",
      "bio\n",
      "bio_auto_verified\n",
      "bio_facebook\n",
      "bio_loc\n",
      "blog_mention_html\n",
      "description_html\n",
      "has_community\n",
      "is_small_community\n",
      "pledges\n",
      "profile_badge\n",
      "profile_joined_time\n",
      "profile_loc\n",
      "slug\n",
      "user_deleted\n"
     ]
    }
   ],
   "source": [
    "for x in df_read.columns.tolist():\n",
    "    print x"
   ]
  },
  {
   "cell_type": "code",
   "execution_count": 21,
   "metadata": {
    "collapsed": false
   },
   "outputs": [
    {
     "data": {
      "text/plain": [
       "((800, 26), (800, 26))"
      ]
     },
     "execution_count": 21,
     "metadata": {},
     "output_type": "execute_result"
    }
   ],
   "source": [
    "df[[x for x in df.columns if not x.startswith('len')]].shape, df_read.shape"
   ]
  },
  {
   "cell_type": "code",
   "execution_count": 7,
   "metadata": {
    "collapsed": false
   },
   "outputs": [
    {
     "name": "stdout",
     "output_type": "stream",
     "text": [
      "for big community, # new_backer + # return_backer == # backer --> mask.shape==0\n",
      "(0, 45)\n"
     ]
    }
   ],
   "source": [
    "def get_int(x):s\n",
    "    return int(x.replace(',','')) if isinstance(x, str) or isinstance(x, unicode) else 0\n",
    "\n",
    "print 'for big community, # new_backer + # return_backer == # backer --> mask.shape==0'\n",
    "mask = ~(df['#backer'].apply(get_int) == df['#new_backer'].apply(get_int) + df['#return_backer'].apply(get_int)) & (df.is_small_community==0)\n",
    "print df[mask].shape"
   ]
  },
  {
   "cell_type": "code",
   "execution_count": 8,
   "metadata": {
    "collapsed": false
   },
   "outputs": [
    {
     "name": "stdout",
     "output_type": "stream",
     "text": [
      "check project page, should be 1\n",
      "{1: 800}\n",
      "{1: 800}\n",
      "{1: 800}\n",
      "{1: 800}\n",
      "{1: 800}\n",
      "check project page, 1 or 0\n",
      "{0: 49, 1: 751}\n",
      "checked bio page, only 1\n",
      "{1: 800}\n",
      "{1: 800}\n",
      "check full page, only 1\n",
      "{1.0: 782}\n",
      "{1.0: 782}\n",
      "check full page, 1 or 0\n",
      "{0: 782, 1: 18}\n",
      "{1.0: 782}\n",
      "{0.0: 201, 1.0: 581}\n",
      "check community page, should be 1\n",
      "{1.0: 394}\n",
      "{1.0: 394}\n",
      "{1.0: 394}\n",
      "{1.0: 394}\n"
     ]
    }
   ],
   "source": [
    "print 'check project page, should be 1'\n",
    "print df.len_blog.value_counts().to_dict()\n",
    "print df.len_comments.value_counts().to_dict()\n",
    "print df.len_upd.value_counts().to_dict()\n",
    "print df.len_rew_div.value_counts().to_dict()\n",
    "print df.len_facebook.value_counts().to_dict()\n",
    "\n",
    "print 'check project page, 1 or 0'\n",
    "print df.len_tipsys.value_counts().to_dict()\n",
    "\n",
    "print 'checked bio page, only 1'\n",
    "print df.len_header.value_counts().to_dict()\n",
    "print df.len_header_p.value_counts().to_dict()\n",
    "\n",
    "print 'check full page, only 1'\n",
    "print df.len_joined.value_counts().to_dict()\n",
    "print df.len_full_bio.value_counts().to_dict()\n",
    "\n",
    "print 'check full page, 1 or 0'\n",
    "print df.user_deleted.value_counts().to_dict()\n",
    "print df.len_badge.value_counts().to_dict()\n",
    "print df.len_location.value_counts().to_dict()\n",
    "\n",
    "print 'check community page, should be 1'\n",
    "print df.len_cities_div.value_counts().to_dict()\n",
    "print df.len_countries_div.value_counts().to_dict()\n",
    "print df.len_new_backer_div.value_counts().to_dict()\n",
    "print df.len_return_backer_div.value_counts().to_dict()\n"
   ]
  },
  {
   "cell_type": "markdown",
   "metadata": {},
   "source": [
    "# Todo"
   ]
  },
  {
   "cell_type": "code",
   "execution_count": 57,
   "metadata": {
    "collapsed": false
   },
   "outputs": [],
   "source": [
    "description_container = soup.find_all('div', class_='description-container')\n",
    "res['len_des'] = len(description_container)\n",
    "description_container = description_container[0]\n",
    "print '+++++++++++++++++++++++++++', slug\n",
    "print description_container\n",
    "# save description as file"
   ]
  },
  {
   "cell_type": "markdown",
   "metadata": {},
   "source": [
    "# backup"
   ]
  },
  {
   "cell_type": "markdown",
   "metadata": {},
   "source": [
    "import json\n",
    "\n",
    "class BackerCity:\n",
    "    \n",
    "    def __init__(self, city, country, cnt):\n",
    "        self.city = city\n",
    "        self.country = country\n",
    "        self.cnt = cnt\n",
    "    \n",
    "    def to_dict(self):\n",
    "        return {'city': self.city, 'country': self.country, 'cnt': self.cnt}\n",
    "    \n",
    "    def to_json(self):\n",
    "        return json.dumps(self.to_dict())\n",
    "\n",
    "\n",
    "class BackerCountry:\n",
    "    \n",
    "    def __init__(self, country, cnt):\n",
    "        self.country = country\n",
    "        self.cnt = cnt\n",
    "    \n",
    "    def to_dict(self):\n",
    "        return {'country': self.country, 'cnt': self.cnt}\n",
    "    \n",
    "    def to_json(self):\n",
    "        return json.dumps(self.to_dict())"
   ]
  },
  {
   "cell_type": "markdown",
   "metadata": {},
   "source": [
    "\n",
    "\n",
    "def parse_commnunity_page(soup, res, debug=False):\n",
    "    \n",
    "    # no geographic information if the community is small\n",
    "    small_comm = soup.find('div', class_='community-section__small_community')\n",
    "    if small_comm:\n",
    "        res['is_small_community'] = 1\n",
    "        return\n",
    "    res['is_small_community'] = 0\n",
    "    \n",
    "    if debug:\n",
    "        # check if len = 1\n",
    "        cities_div = soup.find_all('div', class_='community-section__locations_cities')\n",
    "        res['len_cities_div'] = len(cities_div)\n",
    "        countries_div = soup.find_all('div', class_='community-section__locations_countries')\n",
    "        res['len_countries_div'] = len(countries_div)\n",
    "        new_backer_div = soup.find_all('div', class_='new-backers')\n",
    "        res['len_new_backer_div'] = len(new_backer_div)\n",
    "        return_backer_div = soup.find_all('div', class_='existing-backers')\n",
    "        res['len_return_backer_div'] = len(return_backer_div)\n",
    "        \n",
    "    \n",
    "    cities = soup.find('div', class_='community-section__locations_cities').find_all('div', class_='location-list__item js-location-item')\n",
    "    backer_cities = []\n",
    "    for c in cities:\n",
    "        cityname = c.find('div', 'primary-text js-location-primary-text').text.strip()\n",
    "        countryname = c.find('div', 'secondary-text js-location-secondary-text').text.strip()\n",
    "        cnt = c.find('div', 'tertiary-text js-location-tertiary-text').text.replace('backers', '').replace('backer', '').strip()\n",
    "        bc = BackerCity(city=cityname, country=countryname, cnt=cnt)\n",
    "        backer_cities.append(bc.to_dict())\n",
    "    res['backer_cities'] = json.dumps(backer_cities)\n",
    "    \n",
    "    backer_countries = []\n",
    "    countries = soup.find('div', class_='community-section__locations_countries').find_all('div', class_='location-list__item js-location-item')\n",
    "    for c in countries:\n",
    "        countryname = c.find('div', 'primary-text js-location-primary-text').text.strip()\n",
    "        cnt = c.find('div', 'tertiary-text js-location-tertiary-text').text.replace('backers', '').replace('backer', '').strip()\n",
    "        bc = BackerCountry(country=countryname, cnt=cnt)\n",
    "        backer_countries.append(bc.to_dict())\n",
    "    res['backer_countries'] = json.dumps(backer_countries)\n",
    "\n",
    "    res['#new_backer'] = soup.find('div', class_='new-backers').find(class_='count').text.strip()\n",
    "    res['#return_backer'] = soup.find('div', class_='existing-backers').find(class_='count').text.strip()\n",
    "    \n"
   ]
  }
 ],
 "metadata": {
  "kernelspec": {
   "display_name": "Python 2",
   "language": "python",
   "name": "python2"
  },
  "language_info": {
   "codemirror_mode": {
    "name": "ipython",
    "version": 2
   },
   "file_extension": ".py",
   "mimetype": "text/x-python",
   "name": "python",
   "nbconvert_exporter": "python",
   "pygments_lexer": "ipython2",
   "version": "2.7.11"
  }
 },
 "nbformat": 4,
 "nbformat_minor": 2
}
