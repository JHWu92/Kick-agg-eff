{
 "cells": [
  {
   "cell_type": "code",
   "execution_count": 1,
   "metadata": {
    "collapsed": true
   },
   "outputs": [],
   "source": [
    "def parse_timestamp(t):\n",
    "    from datetime import datetime\n",
    "    return datetime.fromtimestamp(t).strftime('%Y-%m-%d %H:%M:%S')"
   ]
  },
  {
   "cell_type": "code",
   "execution_count": 2,
   "metadata": {
    "collapsed": true
   },
   "outputs": [],
   "source": [
    "import json\n",
    "\n",
    "import pandas as pd\n",
    "df = pd.read_csv('Kickstarter001.csv')"
   ]
  },
  {
   "cell_type": "code",
   "execution_count": 3,
   "metadata": {
    "collapsed": false,
    "scrolled": true
   },
   "outputs": [
    {
     "data": {
      "text/html": [
       "<div>\n",
       "<table border=\"1\" class=\"dataframe\">\n",
       "  <thead>\n",
       "    <tr style=\"text-align: right;\">\n",
       "      <th></th>\n",
       "      <th>0</th>\n",
       "      <th>1</th>\n",
       "      <th>2</th>\n",
       "      <th>3</th>\n",
       "      <th>4</th>\n",
       "    </tr>\n",
       "  </thead>\n",
       "  <tbody>\n",
       "    <tr>\n",
       "      <th>id</th>\n",
       "      <td>1389179104</td>\n",
       "      <td>298302228</td>\n",
       "      <td>1228263280</td>\n",
       "      <td>983528903</td>\n",
       "      <td>682095600</td>\n",
       "    </tr>\n",
       "    <tr>\n",
       "      <th>photo</th>\n",
       "      <td>{\"small\":\"https://ksr-ugc.imgix.net/assets/011...</td>\n",
       "      <td>{\"small\":\"https://ksr-ugc.imgix.net/assets/011...</td>\n",
       "      <td>{\"small\":\"https://ksr-ugc.imgix.net/assets/013...</td>\n",
       "      <td>{\"small\":\"https://ksr-ugc.imgix.net/assets/013...</td>\n",
       "      <td>{\"small\":\"https://ksr-ugc.imgix.net/assets/014...</td>\n",
       "    </tr>\n",
       "    <tr>\n",
       "      <th>name</th>\n",
       "      <td>Le Maritime Mandee</td>\n",
       "      <td>Jacksonville REEL Recovery Film Festival</td>\n",
       "      <td>London Sketchfest 2016 - Exclusive Hidden Show...</td>\n",
       "      <td>Game of Thrones: A Panto of Ice and Fire</td>\n",
       "      <td>Walk With You - 2016</td>\n",
       "    </tr>\n",
       "    <tr>\n",
       "      <th>blurb</th>\n",
       "      <td>Le Maritime Mandee will provide Pirate themed ...</td>\n",
       "      <td>A social connection between treatment &amp; recove...</td>\n",
       "      <td>Support the next generation of British comedy ...</td>\n",
       "      <td>A new pantomime inspired by the \"A Song of Ice...</td>\n",
       "      <td>In 1857, the President attempted to make slave...</td>\n",
       "    </tr>\n",
       "    <tr>\n",
       "      <th>goal</th>\n",
       "      <td>950</td>\n",
       "      <td>7500</td>\n",
       "      <td>2500</td>\n",
       "      <td>2000</td>\n",
       "      <td>5000000</td>\n",
       "    </tr>\n",
       "    <tr>\n",
       "      <th>pledged</th>\n",
       "      <td>55</td>\n",
       "      <td>15</td>\n",
       "      <td>61</td>\n",
       "      <td>100</td>\n",
       "      <td>100</td>\n",
       "    </tr>\n",
       "    <tr>\n",
       "      <th>state</th>\n",
       "      <td>failed</td>\n",
       "      <td>failed</td>\n",
       "      <td>failed</td>\n",
       "      <td>failed</td>\n",
       "      <td>failed</td>\n",
       "    </tr>\n",
       "    <tr>\n",
       "      <th>slug</th>\n",
       "      <td>le-maritime-mandee</td>\n",
       "      <td>jacksonville-reel-recovery-film-festival</td>\n",
       "      <td>london-sketchfest-2016-exclusive-hidden-show-t...</td>\n",
       "      <td>game-of-thrones-a-panto-of-ice-and-fire</td>\n",
       "      <td>walk-with-you-2016</td>\n",
       "    </tr>\n",
       "    <tr>\n",
       "      <th>disable_communication</th>\n",
       "      <td>False</td>\n",
       "      <td>False</td>\n",
       "      <td>False</td>\n",
       "      <td>False</td>\n",
       "      <td>False</td>\n",
       "    </tr>\n",
       "    <tr>\n",
       "      <th>country</th>\n",
       "      <td>US</td>\n",
       "      <td>US</td>\n",
       "      <td>GB</td>\n",
       "      <td>GB</td>\n",
       "      <td>US</td>\n",
       "    </tr>\n",
       "    <tr>\n",
       "      <th>currency</th>\n",
       "      <td>USD</td>\n",
       "      <td>USD</td>\n",
       "      <td>GBP</td>\n",
       "      <td>GBP</td>\n",
       "      <td>USD</td>\n",
       "    </tr>\n",
       "    <tr>\n",
       "      <th>currency_symbol</th>\n",
       "      <td>$</td>\n",
       "      <td>$</td>\n",
       "      <td>£</td>\n",
       "      <td>£</td>\n",
       "      <td>$</td>\n",
       "    </tr>\n",
       "    <tr>\n",
       "      <th>currency_trailing_code</th>\n",
       "      <td>True</td>\n",
       "      <td>True</td>\n",
       "      <td>False</td>\n",
       "      <td>False</td>\n",
       "      <td>True</td>\n",
       "    </tr>\n",
       "    <tr>\n",
       "      <th>deadline</th>\n",
       "      <td>1404872141</td>\n",
       "      <td>1409540400</td>\n",
       "      <td>1476140340</td>\n",
       "      <td>1479600000</td>\n",
       "      <td>1483748105</td>\n",
       "    </tr>\n",
       "    <tr>\n",
       "      <th>state_changed_at</th>\n",
       "      <td>1404872141</td>\n",
       "      <td>1409540410</td>\n",
       "      <td>1476140340</td>\n",
       "      <td>1479600001</td>\n",
       "      <td>1483748105</td>\n",
       "    </tr>\n",
       "    <tr>\n",
       "      <th>created_at</th>\n",
       "      <td>1401496372</td>\n",
       "      <td>1406635178</td>\n",
       "      <td>1472991390</td>\n",
       "      <td>1474636634</td>\n",
       "      <td>1480861461</td>\n",
       "    </tr>\n",
       "    <tr>\n",
       "      <th>launched_at</th>\n",
       "      <td>1402280141</td>\n",
       "      <td>1406816875</td>\n",
       "      <td>1473024830</td>\n",
       "      <td>1474667820</td>\n",
       "      <td>1481156105</td>\n",
       "    </tr>\n",
       "    <tr>\n",
       "      <th>staff_pick</th>\n",
       "      <td>False</td>\n",
       "      <td>False</td>\n",
       "      <td>False</td>\n",
       "      <td>False</td>\n",
       "      <td>False</td>\n",
       "    </tr>\n",
       "    <tr>\n",
       "      <th>backers_count</th>\n",
       "      <td>4</td>\n",
       "      <td>2</td>\n",
       "      <td>2</td>\n",
       "      <td>1</td>\n",
       "      <td>1</td>\n",
       "    </tr>\n",
       "    <tr>\n",
       "      <th>static_usd_rate</th>\n",
       "      <td>1</td>\n",
       "      <td>1</td>\n",
       "      <td>1.329487</td>\n",
       "      <td>1.304107</td>\n",
       "      <td>1</td>\n",
       "    </tr>\n",
       "    <tr>\n",
       "      <th>usd_pledged</th>\n",
       "      <td>55</td>\n",
       "      <td>15</td>\n",
       "      <td>81.09869</td>\n",
       "      <td>130.4107</td>\n",
       "      <td>100</td>\n",
       "    </tr>\n",
       "    <tr>\n",
       "      <th>creator</th>\n",
       "      <td>{\"urls\":{\"web\":{\"user\":\"https://www.kickstarte...</td>\n",
       "      <td>{\"urls\":{\"web\":{\"user\":\"https://www.kickstarte...</td>\n",
       "      <td>{\"urls\":{\"web\":{\"user\":\"https://www.kickstarte...</td>\n",
       "      <td>{\"urls\":{\"web\":{\"user\":\"https://www.kickstarte...</td>\n",
       "      <td>{\"urls\":{\"web\":{\"user\":\"https://www.kickstarte...</td>\n",
       "    </tr>\n",
       "    <tr>\n",
       "      <th>location</th>\n",
       "      <td>{\"country\":\"US\",\"urls\":{\"web\":{\"discover\":\"htt...</td>\n",
       "      <td>{\"country\":\"US\",\"urls\":{\"web\":{\"discover\":\"htt...</td>\n",
       "      <td>{\"country\":\"GB\",\"urls\":{\"web\":{\"discover\":\"htt...</td>\n",
       "      <td>{\"country\":\"GB\",\"urls\":{\"web\":{\"discover\":\"htt...</td>\n",
       "      <td>{\"country\":\"US\",\"urls\":{\"web\":{\"discover\":\"htt...</td>\n",
       "    </tr>\n",
       "    <tr>\n",
       "      <th>category</th>\n",
       "      <td>{\"urls\":{\"web\":{\"discover\":\"http://www.kicksta...</td>\n",
       "      <td>{\"urls\":{\"web\":{\"discover\":\"http://www.kicksta...</td>\n",
       "      <td>{\"urls\":{\"web\":{\"discover\":\"http://www.kicksta...</td>\n",
       "      <td>{\"urls\":{\"web\":{\"discover\":\"http://www.kicksta...</td>\n",
       "      <td>{\"urls\":{\"web\":{\"discover\":\"http://www.kicksta...</td>\n",
       "    </tr>\n",
       "    <tr>\n",
       "      <th>profile</th>\n",
       "      <td>{\"background_image_opacity\":0.8,\"should_show_f...</td>\n",
       "      <td>{\"background_image_opacity\":0.8,\"should_show_f...</td>\n",
       "      <td>{\"background_image_opacity\":0.8,\"should_show_f...</td>\n",
       "      <td>{\"background_image_opacity\":0.8,\"should_show_f...</td>\n",
       "      <td>{\"background_image_opacity\":0.8,\"should_show_f...</td>\n",
       "    </tr>\n",
       "    <tr>\n",
       "      <th>spotlight</th>\n",
       "      <td>False</td>\n",
       "      <td>False</td>\n",
       "      <td>False</td>\n",
       "      <td>False</td>\n",
       "      <td>False</td>\n",
       "    </tr>\n",
       "    <tr>\n",
       "      <th>urls</th>\n",
       "      <td>{\"web\":{\"project\":\"https://www.kickstarter.com...</td>\n",
       "      <td>{\"web\":{\"project\":\"https://www.kickstarter.com...</td>\n",
       "      <td>{\"web\":{\"project\":\"https://www.kickstarter.com...</td>\n",
       "      <td>{\"web\":{\"project\":\"https://www.kickstarter.com...</td>\n",
       "      <td>{\"web\":{\"project\":\"https://www.kickstarter.com...</td>\n",
       "    </tr>\n",
       "    <tr>\n",
       "      <th>source_url</th>\n",
       "      <td>https://www.kickstarter.com/discover/categorie...</td>\n",
       "      <td>https://www.kickstarter.com/discover/categorie...</td>\n",
       "      <td>https://www.kickstarter.com/discover/categorie...</td>\n",
       "      <td>https://www.kickstarter.com/discover/categorie...</td>\n",
       "      <td>https://www.kickstarter.com/discover/categorie...</td>\n",
       "    </tr>\n",
       "    <tr>\n",
       "      <th>friends</th>\n",
       "      <td>NaN</td>\n",
       "      <td>NaN</td>\n",
       "      <td>NaN</td>\n",
       "      <td>NaN</td>\n",
       "      <td>NaN</td>\n",
       "    </tr>\n",
       "    <tr>\n",
       "      <th>is_starred</th>\n",
       "      <td>NaN</td>\n",
       "      <td>NaN</td>\n",
       "      <td>NaN</td>\n",
       "      <td>NaN</td>\n",
       "      <td>NaN</td>\n",
       "    </tr>\n",
       "    <tr>\n",
       "      <th>is_backing</th>\n",
       "      <td>NaN</td>\n",
       "      <td>NaN</td>\n",
       "      <td>NaN</td>\n",
       "      <td>NaN</td>\n",
       "      <td>NaN</td>\n",
       "    </tr>\n",
       "    <tr>\n",
       "      <th>permissions</th>\n",
       "      <td>NaN</td>\n",
       "      <td>NaN</td>\n",
       "      <td>NaN</td>\n",
       "      <td>NaN</td>\n",
       "      <td>NaN</td>\n",
       "    </tr>\n",
       "  </tbody>\n",
       "</table>\n",
       "</div>"
      ],
      "text/plain": [
       "                                                                        0  \\\n",
       "id                                                             1389179104   \n",
       "photo                   {\"small\":\"https://ksr-ugc.imgix.net/assets/011...   \n",
       "name                                                   Le Maritime Mandee   \n",
       "blurb                   Le Maritime Mandee will provide Pirate themed ...   \n",
       "goal                                                                  950   \n",
       "pledged                                                                55   \n",
       "state                                                              failed   \n",
       "slug                                                   le-maritime-mandee   \n",
       "disable_communication                                               False   \n",
       "country                                                                US   \n",
       "currency                                                              USD   \n",
       "currency_symbol                                                         $   \n",
       "currency_trailing_code                                               True   \n",
       "deadline                                                       1404872141   \n",
       "state_changed_at                                               1404872141   \n",
       "created_at                                                     1401496372   \n",
       "launched_at                                                    1402280141   \n",
       "staff_pick                                                          False   \n",
       "backers_count                                                           4   \n",
       "static_usd_rate                                                         1   \n",
       "usd_pledged                                                            55   \n",
       "creator                 {\"urls\":{\"web\":{\"user\":\"https://www.kickstarte...   \n",
       "location                {\"country\":\"US\",\"urls\":{\"web\":{\"discover\":\"htt...   \n",
       "category                {\"urls\":{\"web\":{\"discover\":\"http://www.kicksta...   \n",
       "profile                 {\"background_image_opacity\":0.8,\"should_show_f...   \n",
       "spotlight                                                           False   \n",
       "urls                    {\"web\":{\"project\":\"https://www.kickstarter.com...   \n",
       "source_url              https://www.kickstarter.com/discover/categorie...   \n",
       "friends                                                               NaN   \n",
       "is_starred                                                            NaN   \n",
       "is_backing                                                            NaN   \n",
       "permissions                                                           NaN   \n",
       "\n",
       "                                                                        1  \\\n",
       "id                                                              298302228   \n",
       "photo                   {\"small\":\"https://ksr-ugc.imgix.net/assets/011...   \n",
       "name                             Jacksonville REEL Recovery Film Festival   \n",
       "blurb                   A social connection between treatment & recove...   \n",
       "goal                                                                 7500   \n",
       "pledged                                                                15   \n",
       "state                                                              failed   \n",
       "slug                             jacksonville-reel-recovery-film-festival   \n",
       "disable_communication                                               False   \n",
       "country                                                                US   \n",
       "currency                                                              USD   \n",
       "currency_symbol                                                         $   \n",
       "currency_trailing_code                                               True   \n",
       "deadline                                                       1409540400   \n",
       "state_changed_at                                               1409540410   \n",
       "created_at                                                     1406635178   \n",
       "launched_at                                                    1406816875   \n",
       "staff_pick                                                          False   \n",
       "backers_count                                                           2   \n",
       "static_usd_rate                                                         1   \n",
       "usd_pledged                                                            15   \n",
       "creator                 {\"urls\":{\"web\":{\"user\":\"https://www.kickstarte...   \n",
       "location                {\"country\":\"US\",\"urls\":{\"web\":{\"discover\":\"htt...   \n",
       "category                {\"urls\":{\"web\":{\"discover\":\"http://www.kicksta...   \n",
       "profile                 {\"background_image_opacity\":0.8,\"should_show_f...   \n",
       "spotlight                                                           False   \n",
       "urls                    {\"web\":{\"project\":\"https://www.kickstarter.com...   \n",
       "source_url              https://www.kickstarter.com/discover/categorie...   \n",
       "friends                                                               NaN   \n",
       "is_starred                                                            NaN   \n",
       "is_backing                                                            NaN   \n",
       "permissions                                                           NaN   \n",
       "\n",
       "                                                                        2  \\\n",
       "id                                                             1228263280   \n",
       "photo                   {\"small\":\"https://ksr-ugc.imgix.net/assets/013...   \n",
       "name                    London Sketchfest 2016 - Exclusive Hidden Show...   \n",
       "blurb                   Support the next generation of British comedy ...   \n",
       "goal                                                                 2500   \n",
       "pledged                                                                61   \n",
       "state                                                              failed   \n",
       "slug                    london-sketchfest-2016-exclusive-hidden-show-t...   \n",
       "disable_communication                                               False   \n",
       "country                                                                GB   \n",
       "currency                                                              GBP   \n",
       "currency_symbol                                                         £   \n",
       "currency_trailing_code                                              False   \n",
       "deadline                                                       1476140340   \n",
       "state_changed_at                                               1476140340   \n",
       "created_at                                                     1472991390   \n",
       "launched_at                                                    1473024830   \n",
       "staff_pick                                                          False   \n",
       "backers_count                                                           2   \n",
       "static_usd_rate                                                  1.329487   \n",
       "usd_pledged                                                      81.09869   \n",
       "creator                 {\"urls\":{\"web\":{\"user\":\"https://www.kickstarte...   \n",
       "location                {\"country\":\"GB\",\"urls\":{\"web\":{\"discover\":\"htt...   \n",
       "category                {\"urls\":{\"web\":{\"discover\":\"http://www.kicksta...   \n",
       "profile                 {\"background_image_opacity\":0.8,\"should_show_f...   \n",
       "spotlight                                                           False   \n",
       "urls                    {\"web\":{\"project\":\"https://www.kickstarter.com...   \n",
       "source_url              https://www.kickstarter.com/discover/categorie...   \n",
       "friends                                                               NaN   \n",
       "is_starred                                                            NaN   \n",
       "is_backing                                                            NaN   \n",
       "permissions                                                           NaN   \n",
       "\n",
       "                                                                        3  \\\n",
       "id                                                              983528903   \n",
       "photo                   {\"small\":\"https://ksr-ugc.imgix.net/assets/013...   \n",
       "name                             Game of Thrones: A Panto of Ice and Fire   \n",
       "blurb                   A new pantomime inspired by the \"A Song of Ice...   \n",
       "goal                                                                 2000   \n",
       "pledged                                                               100   \n",
       "state                                                              failed   \n",
       "slug                              game-of-thrones-a-panto-of-ice-and-fire   \n",
       "disable_communication                                               False   \n",
       "country                                                                GB   \n",
       "currency                                                              GBP   \n",
       "currency_symbol                                                         £   \n",
       "currency_trailing_code                                              False   \n",
       "deadline                                                       1479600000   \n",
       "state_changed_at                                               1479600001   \n",
       "created_at                                                     1474636634   \n",
       "launched_at                                                    1474667820   \n",
       "staff_pick                                                          False   \n",
       "backers_count                                                           1   \n",
       "static_usd_rate                                                  1.304107   \n",
       "usd_pledged                                                      130.4107   \n",
       "creator                 {\"urls\":{\"web\":{\"user\":\"https://www.kickstarte...   \n",
       "location                {\"country\":\"GB\",\"urls\":{\"web\":{\"discover\":\"htt...   \n",
       "category                {\"urls\":{\"web\":{\"discover\":\"http://www.kicksta...   \n",
       "profile                 {\"background_image_opacity\":0.8,\"should_show_f...   \n",
       "spotlight                                                           False   \n",
       "urls                    {\"web\":{\"project\":\"https://www.kickstarter.com...   \n",
       "source_url              https://www.kickstarter.com/discover/categorie...   \n",
       "friends                                                               NaN   \n",
       "is_starred                                                            NaN   \n",
       "is_backing                                                            NaN   \n",
       "permissions                                                           NaN   \n",
       "\n",
       "                                                                        4  \n",
       "id                                                              682095600  \n",
       "photo                   {\"small\":\"https://ksr-ugc.imgix.net/assets/014...  \n",
       "name                                                 Walk With You - 2016  \n",
       "blurb                   In 1857, the President attempted to make slave...  \n",
       "goal                                                              5000000  \n",
       "pledged                                                               100  \n",
       "state                                                              failed  \n",
       "slug                                                   walk-with-you-2016  \n",
       "disable_communication                                               False  \n",
       "country                                                                US  \n",
       "currency                                                              USD  \n",
       "currency_symbol                                                         $  \n",
       "currency_trailing_code                                               True  \n",
       "deadline                                                       1483748105  \n",
       "state_changed_at                                               1483748105  \n",
       "created_at                                                     1480861461  \n",
       "launched_at                                                    1481156105  \n",
       "staff_pick                                                          False  \n",
       "backers_count                                                           1  \n",
       "static_usd_rate                                                         1  \n",
       "usd_pledged                                                           100  \n",
       "creator                 {\"urls\":{\"web\":{\"user\":\"https://www.kickstarte...  \n",
       "location                {\"country\":\"US\",\"urls\":{\"web\":{\"discover\":\"htt...  \n",
       "category                {\"urls\":{\"web\":{\"discover\":\"http://www.kicksta...  \n",
       "profile                 {\"background_image_opacity\":0.8,\"should_show_f...  \n",
       "spotlight                                                           False  \n",
       "urls                    {\"web\":{\"project\":\"https://www.kickstarter.com...  \n",
       "source_url              https://www.kickstarter.com/discover/categorie...  \n",
       "friends                                                               NaN  \n",
       "is_starred                                                            NaN  \n",
       "is_backing                                                            NaN  \n",
       "permissions                                                           NaN  "
      ]
     },
     "execution_count": 3,
     "metadata": {},
     "output_type": "execute_result"
    }
   ],
   "source": [
    "df.head().T"
   ]
  },
  {
   "cell_type": "code",
   "execution_count": 24,
   "metadata": {
    "collapsed": false
   },
   "outputs": [
    {
     "name": "stdout",
     "output_type": "stream",
     "text": [
      "Int64Index([283], dtype='int64')\n",
      "https://www.kickstarter.com/projects/1540032771/babys-day-out-stu-goes-to-manchester?ref=category\n"
     ]
    }
   ],
   "source": [
    "slug = 'babys-day-out-stu-goes-to-manchester'\n",
    "print df[df.slug==slug].index\n",
    "print json.loads(df[df.slug==slug].urls.values[0])['web']['project']"
   ]
  },
  {
   "cell_type": "code",
   "execution_count": 16,
   "metadata": {
    "collapsed": false
   },
   "outputs": [
    {
     "name": "stdout",
     "output_type": "stream",
     "text": [
      "https://www.kickstarter.com/profile/223108387/about\n",
      "https://www.kickstarter.com/profile/392916023/about\n",
      "https://www.kickstarter.com/profile/1450181019/about\n",
      "https://www.kickstarter.com/profile/974666041/about\n"
     ]
    }
   ],
   "source": [
    "# creator url by indices\n",
    "indices = [6, 8, 9, 45]\n",
    "\n",
    "for x in df.loc[indices].creator.values:\n",
    "    print json.loads(x)['urls']['web']['user']+'/about'"
   ]
  },
  {
   "cell_type": "code",
   "execution_count": 14,
   "metadata": {
    "collapsed": false
   },
   "outputs": [
    {
     "name": "stdout",
     "output_type": "stream",
     "text": [
      "https://www.kickstarter.com/projects/223108387/the-remembering?ref=category\n",
      "https://www.kickstarter.com/projects/392916023/eastern-beach-fireworks-extravaganza?ref=category\n",
      "https://www.kickstarter.com/projects/1450181019/the-last-5-years?ref=category\n"
     ]
    }
   ],
   "source": [
    "# project url by indices\n",
    "indices = [ 318, 346,\n",
    "            351, 365, 388, ]\n",
    "\n",
    "for u in df.loc[indices].urls.values:\n",
    "    print json.loads(u)['web']['project']"
   ]
  },
  {
   "cell_type": "code",
   "execution_count": 4,
   "metadata": {
    "collapsed": true
   },
   "outputs": [
    {
     "name": "stdout",
     "output_type": "stream",
     "text": [
      "{\"web\":{\"project\":\"https://www.kickstarter.com/projects/bmtheatre/barge-baby-heads-to-the-edinburgh-fringe-2014?ref=category\",\"rewards\":\"https://www.kickstarter.com/projects/bmtheatre/barge-baby-heads-to-the-edinburgh-fringe-2014/rewards\"}}\n"
     ]
    },
    {
     "data": {
      "text/plain": [
       "{u'background_color': None,\n",
       " u'background_image_opacity': 0.8,\n",
       " u'blurb': None,\n",
       " u'feature_image_attributes': {u'image_urls': {u'baseball_card': u'https://ksr-ugc.imgix.net/assets/011/693/749/6f497b7c151951f085aa5beda03a76e9_original.jpg?w=1536&h=864&fit=fill&bg=000000&v=1463686887&auto=format&q=92&s=fd0f208a8042130093a7adfe6b18349c',\n",
       "   u'default': u'https://ksr-ugc.imgix.net/assets/011/693/749/6f497b7c151951f085aa5beda03a76e9_original.jpg?w=1536&h=864&fit=fill&bg=000000&v=1463686887&auto=format&q=92&s=fd0f208a8042130093a7adfe6b18349c'}},\n",
       " u'id': 996130,\n",
       " u'link_background_color': None,\n",
       " u'link_text': None,\n",
       " u'link_text_color': None,\n",
       " u'link_url': None,\n",
       " u'name': None,\n",
       " u'project_id': 996130,\n",
       " u'should_show_feature_image_section': True,\n",
       " u'show_feature_image': False,\n",
       " u'state': u'inactive',\n",
       " u'state_changed_at': 1425915855,\n",
       " u'text_color': None}"
      ]
     },
     "execution_count": 4,
     "metadata": {},
     "output_type": "execute_result"
    }
   ],
   "source": [
    "# show contents of field in json\n",
    "i = 5\n",
    "x = df.loc[i].photo\n",
    "x = df.loc[i].urls\n",
    "print x\n",
    "x = df.loc[i].creator\n",
    "x = df.loc[i].location\n",
    "x = df.loc[i].category\n",
    "x = df.loc[i].profile\n",
    "json.loads(x)"
   ]
  },
  {
   "cell_type": "code",
   "execution_count": 114,
   "metadata": {
    "collapsed": false
   },
   "outputs": [
    {
     "data": {
      "text/plain": [
       "deadline            2014-08-15 17:24:05\n",
       "state_changed_at    2014-08-15 17:24:05\n",
       "created_at          2014-06-15 12:52:16\n",
       "launched_at         2014-06-16 17:24:05\n",
       "dtype: object"
      ]
     },
     "execution_count": 114,
     "metadata": {},
     "output_type": "execute_result"
    }
   ],
   "source": [
    "# show timestamp\n",
    "df[df.slug=='18-wheelz'][['deadline','state_changed_at','created_at','launched_at']].apply(parse_timestamp)"
   ]
  },
  {
   "cell_type": "code",
   "execution_count": 5,
   "metadata": {
    "collapsed": false
   },
   "outputs": [],
   "source": [
    "# useful fields\n",
    "fields = ['id', 'name', 'slug', 'blurb', 'goal', 'pledged', 'state', 'country','currency', \n",
    "          'deadline','state_changed_at','created_at','launched_at',\n",
    "          'spotlight', 'staff_pick',\n",
    "          # json.loads('location') keys: country, state, type(so far all Town), name(city name), displayable_name\n",
    "          'location',  \n",
    "          # json.loads('category') keys: name(category name), slug(parent/category)\n",
    "          'category',\n",
    "          # json.loads('urls') keys: web/project\n",
    "          'urls',\n",
    "          # json, keys:web/user --> full profile link: # backed, created, full profile, # website, joined time,\n",
    "          'creator',\n",
    "          \n",
    "         ]\n"
   ]
  },
  {
   "cell_type": "markdown",
   "metadata": {},
   "source": [
    "### understanding fields"
   ]
  },
  {
   "cell_type": "code",
   "execution_count": 109,
   "metadata": {
    "collapsed": false
   },
   "outputs": [
    {
     "name": "stdout",
     "output_type": "stream",
     "text": [
      "'urls' is json, the first layer key is 'web'\n",
      "(web,)    4160\n",
      "dtype: int64\n",
      "'urls' is json, the second layer keys are ['project','rewards']\n",
      "(project, rewards)    4160\n",
      "dtype: int64\n",
      "friends is null\n",
      "Series([], dtype: int64)\n",
      "is_starred is null\n",
      "Series([], dtype: int64)\n",
      "is_backing is null\n",
      "Series([], dtype: int64)\n",
      "is_starred is null\n",
      "Series([], dtype: int64)\n",
      "False    3961\n",
      "True      199\n",
      "dtype: int64\n"
     ]
    }
   ],
   "source": [
    "# unknown fields: disable_communication, currency_trailing_code, profile\n",
    "# slug: url identifier\n",
    "# 'blurb': one sentence description for project\n",
    "# 'photo': json,different resolutions of project photo\n",
    "# usd_pledged, static_usd_rate: transform different currency into us dollar: pledged*static_usd_rate\n",
    "# creator: json, name, id, web(user page), avatar\n",
    "# 'spotlight', 'staff_picked': large successful rate(mannual label)\n",
    "# source_url: maybe how the dataset is collected\n",
    "\n",
    "print \"'urls' is json, the first layer key is 'web'\"\n",
    "print df.urls.apply(lambda x: tuple(json.loads(x).keys())).value_counts()\n",
    "\n",
    "print \"'urls' is json, the second layer keys are ['project','rewards']\"\n",
    "# the rewards url is not very informative, the content of rewards possibly are all presented in the project url\n",
    "print df.urls.apply(lambda x: tuple(json.loads(x)['web'].keys())).value_counts()\n",
    "\n",
    "print 'friends is null'\n",
    "print df.friends.value_counts()\n",
    "\n",
    "print 'is_starred is null'\n",
    "print df.is_starred.value_counts()\n",
    "\n",
    "print 'is_backing is null'\n",
    "print df.is_backing.value_counts()\n",
    "\n",
    "print 'is_starred is null'\n",
    "print df.permissions.value_counts()\n",
    "\n",
    "print df.staff_pick.value_counts()\n"
   ]
  },
  {
   "cell_type": "code",
   "execution_count": 119,
   "metadata": {
    "collapsed": false
   },
   "outputs": [
    {
     "name": "stdout",
     "output_type": "stream",
     "text": [
      "successful    624\n",
      "dtype: int64\n"
     ]
    },
    {
     "data": {
      "text/plain": [
       "'{\"web\":{\"project\":\"https://www.kickstarter.com/projects/poordoggroup/group-therapy?ref=category\",\"rewards\":\"https://www.kickstarter.com/projects/poordoggroup/group-therapy/rewards\"}}'"
      ]
     },
     "execution_count": 119,
     "metadata": {},
     "output_type": "execute_result"
    }
   ],
   "source": [
    "# spotlight tend to be successful\n",
    "print df[df.spotlight].state.value_counts()\n",
    "df[df.spotlight].urls.values[1]"
   ]
  },
  {
   "cell_type": "code",
   "execution_count": 6,
   "metadata": {
    "collapsed": false
   },
   "outputs": [
    {
     "name": "stdout",
     "output_type": "stream",
     "text": [
      "successful    141\n",
      "failed         48\n",
      "canceled       10\n",
      "dtype: int64\n"
     ]
    },
    {
     "data": {
      "text/plain": [
       "'{\"web\":{\"project\":\"https://www.kickstarter.com/projects/1206385481/kurt-vonneguts-galapagos-orignal-theatrical-adapti?ref=category\",\"rewards\":\"https://www.kickstarter.com/projects/1206385481/kurt-vonneguts-galapagos-orignal-theatrical-adapti/rewards\"}}'"
      ]
     },
     "execution_count": 6,
     "metadata": {},
     "output_type": "execute_result"
    }
   ],
   "source": [
    "print df[df.staff_pick].state.value_counts()\n",
    "df[df.staff_pick].urls.values[0]"
   ]
  }
 ],
 "metadata": {
  "kernelspec": {
   "display_name": "Python 2",
   "language": "python",
   "name": "python2"
  },
  "language_info": {
   "codemirror_mode": {
    "name": "ipython",
    "version": 2
   },
   "file_extension": ".py",
   "mimetype": "text/x-python",
   "name": "python",
   "nbconvert_exporter": "python",
   "pygments_lexer": "ipython2",
   "version": "2.7.11"
  }
 },
 "nbformat": 4,
 "nbformat_minor": 2
}
