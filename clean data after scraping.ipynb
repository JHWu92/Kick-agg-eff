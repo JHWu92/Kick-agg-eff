{
 "cells": [
  {
   "cell_type": "code",
   "execution_count": 1,
   "metadata": {
    "collapsed": false
   },
   "outputs": [],
   "source": [
    "import pandas as pd\n",
    "import numpy as np\n",
    "import glob\n",
    "from data_clean import *\n",
    "    \n",
    "def concat_file(file_paths,index_col=None):\n",
    "    df_list = []\n",
    "    for fp in file_paths:\n",
    "        df = pd.read_csv(fp, index_col=index_col)\n",
    "        df_list.append(df)\n",
    "    return pd.concat(df_list, ignore_index=True)"
   ]
  },
  {
   "cell_type": "code",
   "execution_count": 2,
   "metadata": {
    "collapsed": false
   },
   "outputs": [],
   "source": [
    "file_paths = ['data/Kickstarter00{}.csv'.format(i+1) for i in range(4)]\n",
    "kick_meta = concat_file(file_paths)\n",
    "clean_kick_meta(kick_meta)"
   ]
  },
  {
   "cell_type": "code",
   "execution_count": 8,
   "metadata": {
    "collapsed": false
   },
   "outputs": [
    {
     "data": {
      "text/plain": [
       "array([ '{\"web\":{\"project\":\"https://www.kickstarter.com/projects/1971259166/tuckerthe-last-human-invention?ref=category\",\"rewards\":\"https://www.kickstarter.com/projects/1971259166/tuckerthe-last-human-invention/rewards\"}}'], dtype=object)"
      ]
     },
     "execution_count": 8,
     "metadata": {},
     "output_type": "execute_result"
    }
   ],
   "source": [
    "kick_meta[kick_meta.id==953819881].urls.values"
   ]
  },
  {
   "cell_type": "code",
   "execution_count": 5,
   "metadata": {
    "collapsed": false
   },
   "outputs": [
    {
     "name": "stdout",
     "output_type": "stream",
     "text": [
      "{'This person verified their identity through an automated process': 13109}\n",
      "{0: 2941, 1: 13109}\n"
     ]
    }
   ],
   "source": [
    "file_paths = glob.glob('data/projs-*.csv')\n",
    "scraped = concat_file(file_paths, index_col=0)\n",
    "clean_scraped(scraped)"
   ]
  },
  {
   "cell_type": "code",
   "execution_count": 6,
   "metadata": {
    "collapsed": false
   },
   "outputs": [],
   "source": [
    "merged = scraped.merge(kick_meta, left_on='id', right_on='id')"
   ]
  },
  {
   "cell_type": "code",
   "execution_count": 8,
   "metadata": {
    "collapsed": false
   },
   "outputs": [],
   "source": [
    "df_linguitic = merged[id_cols+linguistic_cols]\n",
    "df_main = merged[id_cols + pledged_cols + category_cols + int_cols]\n",
    "df_time = merged[id_cols + time_cols]\n",
    "df_location = merged[id_cols + location_cols]\n",
    "df_reward = merged[id_cols + reward_cols]"
   ]
  },
  {
   "cell_type": "code",
   "execution_count": 9,
   "metadata": {
    "collapsed": false
   },
   "outputs": [],
   "source": [
    "df_linguitic.set_index('id').to_csv('data/projects_linguistic.csv', encoding='utf-8')\n",
    "df_main.set_index('id').to_csv('data/projects_features.csv', encoding='utf-8')\n",
    "df_time.set_index('id').to_csv('data/projects_time.csv', encoding='utf-8')\n",
    "df_location.set_index('id').to_csv('data/projects_location.csv', encoding='utf-8')\n",
    "df_reward.set_index('id').to_csv('data/projects_rewards.csv', encoding='utf-8')"
   ]
  },
  {
   "cell_type": "code",
   "execution_count": 10,
   "metadata": {
    "collapsed": false
   },
   "outputs": [
    {
     "data": {
      "text/plain": [
       "(16050, 2)"
      ]
     },
     "execution_count": 10,
     "metadata": {},
     "output_type": "execute_result"
    }
   ],
   "source": [
    "df_reward.shape"
   ]
  }
 ],
 "metadata": {
  "anaconda-cloud": {},
  "kernelspec": {
   "display_name": "Python [default]",
   "language": "python",
   "name": "python2"
  },
  "language_info": {
   "codemirror_mode": {
    "name": "ipython",
    "version": 2
   },
   "file_extension": ".py",
   "mimetype": "text/x-python",
   "name": "python",
   "nbconvert_exporter": "python",
   "pygments_lexer": "ipython2",
   "version": "2.7.13"
  }
 },
 "nbformat": 4,
 "nbformat_minor": 2
}
