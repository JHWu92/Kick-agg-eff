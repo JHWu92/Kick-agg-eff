{
 "cells": [
  {
   "cell_type": "code",
   "execution_count": 1,
   "metadata": {
    "collapsed": true
   },
   "outputs": [],
   "source": [
    "\n",
    "from scraper import *\n",
    "\n",
    "headers_list = get_headers_list()\n",
    "file_paths = ['data/Kickstarter00{}.csv'.format(i+1) for i in range(4)]\n",
    "projs_urls = urls_to_srape(file_paths)"
   ]
  },
  {
   "cell_type": "code",
   "execution_count": 2,
   "metadata": {
    "collapsed": false
   },
   "outputs": [
    {
     "name": "stdout",
     "output_type": "stream",
     "text": [
      "skip idx = 14999 and everything before it\n",
      "save 30th batch each batch: 500 rows\n",
      "stop scraping before idx = 15500\n"
     ]
    }
   ],
   "source": [
    "scrape(projs_urls, headers_list, debug=True, batch_cnt=30, stop_batch=31)"
   ]
  },
  {
   "cell_type": "code",
   "execution_count": 5,
   "metadata": {
    "collapsed": false
   },
   "outputs": [
    {
     "name": "stdout",
     "output_type": "stream",
     "text": [
      "save 0th batch each batch: 500 rows\n",
      "save 1th batch each batch: 500 rows\n",
      "save 2th batch each batch: 500 rows\n",
      "save 3th batch each batch: 500 rows\n",
      "save 4th batch each batch: 500 rows\n",
      "save 5th batch each batch: 500 rows\n",
      "save 6th batch each batch: 500 rows\n",
      "save 7th batch each batch: 500 rows\n",
      "save 8th batch each batch: 500 rows\n",
      "save 9th batch each batch: 500 rows\n",
      "save 10th batch each batch: 500 rows\n",
      "save 11th batch each batch: 500 rows\n",
      "save 12th batch each batch: 500 rows\n",
      "save 13th batch each batch: 500 rows\n",
      "save 14th batch each batch: 500 rows\n",
      "save 15th batch each batch: 500 rows\n",
      "save 16th batch each batch: 500 rows\n",
      "save 17th batch each batch: 500 rows\n",
      "save 18th batch each batch: 500 rows\n",
      "save 19th batch each batch: 500 rows\n",
      "save 20th batch each batch: 500 rows\n",
      "save 21th batch each batch: 500 rows\n",
      "save 22th batch each batch: 500 rows\n",
      "save 23th batch each batch: 500 rows\n",
      "save 24th batch each batch: 500 rows\n",
      "save 25th batch each batch: 500 rows\n",
      "save 26th batch each batch: 500 rows\n",
      "save 27th batch each batch: 500 rows\n",
      "save 28th batch each batch: 500 rows\n",
      "save 29th batch each batch: 500 rows\n",
      "save 30th batch each batch: 500 rows\n",
      "save 31th batch each batch: 500 rows\n",
      "save last batch of 50 rows\n"
     ]
    }
   ],
   "source": [
    "scrape(projs_urls, headers_list, debug=True)"
   ]
  },
  {
   "cell_type": "code",
   "execution_count": null,
   "metadata": {
    "collapsed": true
   },
   "outputs": [],
   "source": []
  }
 ],
 "metadata": {
  "kernelspec": {
   "display_name": "Python 2",
   "language": "python",
   "name": "python2"
  },
  "language_info": {
   "codemirror_mode": {
    "name": "ipython",
    "version": 2
   },
   "file_extension": ".py",
   "mimetype": "text/x-python",
   "name": "python",
   "nbconvert_exporter": "python",
   "pygments_lexer": "ipython2",
   "version": "2.7.13"
  }
 },
 "nbformat": 4,
 "nbformat_minor": 2
}
