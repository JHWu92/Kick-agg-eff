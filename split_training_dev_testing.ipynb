{
 "cells": [
  {
   "cell_type": "code",
   "execution_count": 1,
   "metadata": {
    "collapsed": true
   },
   "outputs": [],
   "source": [
    "from data_clean import get_int\n",
    "import pandas as pd\n",
    "import numpy as np\n",
    "import json\n"
   ]
  },
  {
   "cell_type": "code",
   "execution_count": 2,
   "metadata": {
    "collapsed": true
   },
   "outputs": [],
   "source": [
    "def rewards_features(df_rewards):\n",
    "    import re\n",
    "    df_rewards.pledges = df_rewards.pledges.apply(json.loads)\n",
    "    df_rewards['num_rewards'] = df_rewards.pledges.apply(len)\n",
    "\n",
    "    df_rewards['num_with_limits'] = df_rewards.pledges.apply(lambda x: len([p['limit'] for p in x if (p['limit']!='NULL' and p['limit']!='Reward no longer available')]))\n",
    "    df_rewards['num_with_limits_pcnt'] = df_rewards.apply(lambda x: float(x['num_with_limits'])/ x['num_rewards'] if x['num_rewards'] else 0, axis=1)\n",
    "\n",
    "    df_rewards['moneys'] = df_rewards.pledges.apply(lambda x: np.array([get_int(re.findall(r'[-+]?\\d+(?:,\\d+)?[\\.]?\\d*',p['money'])[0]) for p in x]))\n",
    "\n",
    "    df_rewards['money_max'] = df_rewards.moneys.apply(lambda x: x.max() if len(x) else 0)\n",
    "    df_rewards['money_min'] = df_rewards.moneys.apply(lambda x: x.min() if len(x) else 0)\n",
    "    df_rewards['money_median'] = df_rewards.moneys.apply(lambda x: np.median(x) if len(x) else 0)\n",
    "    df_rewards['money_std'] = df_rewards.moneys.apply(lambda x: np.std(x) if len(x) else 0)\n",
    "\n",
    "    df_rewards['money_max_pcnt'] = df_rewards.apply(lambda x: x.money_max*1.0/x.goal, axis=1)\n",
    "    df_rewards['money_min_pcnt'] = df_rewards.apply(lambda x: x.money_min*1.0/x.goal, axis=1)\n",
    "    df_rewards['money_median_pcnt'] = df_rewards.apply(lambda x: x.money_median*1.0/x.goal, axis=1)\n",
    "    df_rewards['money_std_pcnt'] = df_rewards.apply(lambda x: x.money_std*1.0/x.goal, axis=1)\n",
    "    return df_rewards.drop(['goal','pledges', 'moneys'], axis=1)"
   ]
  },
  {
   "cell_type": "code",
   "execution_count": 6,
   "metadata": {
    "collapsed": false
   },
   "outputs": [
    {
     "data": {
      "text/plain": [
       "music           24119\n",
       "publishing      19175\n",
       "film & video    18571\n",
       "art             14182\n",
       "food             9859\n",
       "technology       8137\n",
       "games            6458\n",
       "design           5882\n",
       "fashion          5702\n",
       "photography      3800\n",
       "crafts           3024\n",
       "theater          1332\n",
       "comics           1175\n",
       "dance            1135\n",
       "journalism         40\n",
       "dtype: int64"
      ]
     },
     "execution_count": 6,
     "metadata": {},
     "output_type": "execute_result"
    }
   ],
   "source": [
    "df.category_parent.value_counts()"
   ]
  },
  {
   "cell_type": "code",
   "execution_count": 2,
   "metadata": {
    "collapsed": false
   },
   "outputs": [],
   "source": [
    "df = pd.read_csv('data/projects_features.csv')\n",
    "df_rewards = pd.read_csv('data/projects_rewards.csv')"
   ]
  },
  {
   "cell_type": "code",
   "execution_count": 4,
   "metadata": {
    "collapsed": true
   },
   "outputs": [],
   "source": [
    "df_loc = pd.read_csv('data/projects_location.csv')\n",
    "df_disposable_income = pd.read_csv('data/Disposible income.csv')"
   ]
  },
  {
   "cell_type": "code",
   "execution_count": 5,
   "metadata": {
    "collapsed": false
   },
   "outputs": [],
   "source": [
    "disposable_income = df_disposable_income.merge(\n",
    "    df_loc[['id', 'proj_location_display_name']], \n",
    "    left_on='City', right_on=['proj_location_display_name'], \n",
    "    how='right')[['id', 'Income']]"
   ]
  },
  {
   "cell_type": "code",
   "execution_count": 6,
   "metadata": {
    "collapsed": false
   },
   "outputs": [],
   "source": [
    "rewards_ftr = rewards_features(df_rewards[~df_rewards.pledges.isnull()].merge(df[['id','goal']]))"
   ]
  },
  {
   "cell_type": "code",
   "execution_count": 7,
   "metadata": {
    "collapsed": false
   },
   "outputs": [],
   "source": [
    "df = df.merge(rewards_ftr, how='left').merge(disposable_income, how='left')"
   ]
  },
  {
   "cell_type": "code",
   "execution_count": 9,
   "metadata": {
    "collapsed": false
   },
   "outputs": [
    {
     "name": "stdout",
     "output_type": "stream",
     "text": [
      "11\n"
     ]
    }
   ],
   "source": [
    "drop_cols = ['goal', 'pledged', 'static_usd_rate', 'usd_pledged', 'category_name', 'spotlight', \n",
    "             'has_community', 'has_creator-bio', 'has_creator-full', 'has_proj', 'user_deleted']"
   ]
  },
  {
   "cell_type": "code",
   "execution_count": 10,
   "metadata": {
    "collapsed": false
   },
   "outputs": [],
   "source": [
    "df = df.drop(drop_cols, axis=1).set_index('id')"
   ]
  },
  {
   "cell_type": "code",
   "execution_count": 11,
   "metadata": {
    "collapsed": false
   },
   "outputs": [],
   "source": [
    "trainset = df.sample(frac=0.8)"
   ]
  },
  {
   "cell_type": "code",
   "execution_count": 12,
   "metadata": {
    "collapsed": false
   },
   "outputs": [],
   "source": [
    "testset = df[~df.index.isin(trainset.index)]"
   ]
  },
  {
   "cell_type": "code",
   "execution_count": 13,
   "metadata": {
    "collapsed": false
   },
   "outputs": [
    {
     "data": {
      "text/plain": [
       "True"
      ]
     },
     "execution_count": 13,
     "metadata": {},
     "output_type": "execute_result"
    }
   ],
   "source": [
    "(set(testset.index)|set(trainset.index)) == set(df.index)"
   ]
  },
  {
   "cell_type": "code",
   "execution_count": 14,
   "metadata": {
    "collapsed": true
   },
   "outputs": [],
   "source": [
    "df.to_csv('data/kick_all.csv')\n",
    "trainset.to_csv('data/kick_training_set.csv')\n",
    "testset.to_csv('data/kick_testing_set.csv')"
   ]
  },
  {
   "cell_type": "code",
   "execution_count": 16,
   "metadata": {
    "collapsed": true
   },
   "outputs": [],
   "source": [
    "def distribution(df):\n",
    "    size = df.shape[0]\n",
    "    category = df.category_parent.value_counts()/size\n",
    "    category.index = ['category_'+x for x in category.index]\n",
    "    state = df.state.value_counts()/size\n",
    "    state.index = ['state_'+x for x in state.index]\n",
    "    goal_mag = df.goal_magnitude.value_counts()/size\n",
    "    goal_mag.index = ['goal_magnitude_'+str(x) for x in goal_mag.index]\n",
    "    return category.append(state).append(goal_mag)"
   ]
  },
  {
   "cell_type": "code",
   "execution_count": 17,
   "metadata": {
    "collapsed": false
   },
   "outputs": [],
   "source": [
    "train_category = distribution(trainset)\n",
    "all_category = distribution(df)\n",
    "test_category = distribution(testset)"
   ]
  },
  {
   "cell_type": "code",
   "execution_count": 19,
   "metadata": {
    "collapsed": false
   },
   "outputs": [],
   "source": [
    "pd.DataFrame([all_category,train_category,test_category]).T.to_csv('distribution of all,train and test.csv')"
   ]
  },
  {
   "cell_type": "code",
   "execution_count": null,
   "metadata": {
    "collapsed": true
   },
   "outputs": [],
   "source": []
  },
  {
   "cell_type": "code",
   "execution_count": null,
   "metadata": {
    "collapsed": true
   },
   "outputs": [],
   "source": []
  },
  {
   "cell_type": "code",
   "execution_count": null,
   "metadata": {
    "collapsed": true
   },
   "outputs": [],
   "source": []
  },
  {
   "cell_type": "code",
   "execution_count": null,
   "metadata": {
    "collapsed": true
   },
   "outputs": [],
   "source": []
  },
  {
   "cell_type": "code",
   "execution_count": null,
   "metadata": {
    "collapsed": true
   },
   "outputs": [],
   "source": []
  },
  {
   "cell_type": "code",
   "execution_count": null,
   "metadata": {
    "collapsed": true
   },
   "outputs": [],
   "source": []
  },
  {
   "cell_type": "code",
   "execution_count": null,
   "metadata": {
    "collapsed": true
   },
   "outputs": [],
   "source": []
  },
  {
   "cell_type": "code",
   "execution_count": 47,
   "metadata": {
    "collapsed": true
   },
   "outputs": [],
   "source": [
    "# useless\n",
    "# df_rewards['currencies'] = df_rewards.pledges.apply(lambda x: set([p['money'][0] for p in x]))\n",
    "# df_rewards[df_rewards['currencies'].apply(len)==0]"
   ]
  }
 ],
 "metadata": {
  "anaconda-cloud": {},
  "kernelspec": {
   "display_name": "Python [default]",
   "language": "python",
   "name": "python2"
  },
  "language_info": {
   "codemirror_mode": {
    "name": "ipython",
    "version": 2
   },
   "file_extension": ".py",
   "mimetype": "text/x-python",
   "name": "python",
   "nbconvert_exporter": "python",
   "pygments_lexer": "ipython2",
   "version": "2.7.13"
  }
 },
 "nbformat": 4,
 "nbformat_minor": 2
}
